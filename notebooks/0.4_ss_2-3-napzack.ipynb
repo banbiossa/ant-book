{
 "cells": [
  {
   "cell_type": "markdown",
   "metadata": {},
   "source": [
    "# 0.4_ss_chap-2-3-napzack"
   ]
  },
  {
   "cell_type": "markdown",
   "metadata": {},
   "source": [
    "## 最大共通文字列"
   ]
  },
  {
   "cell_type": "markdown",
   "metadata": {},
   "source": [
    "### Greedy"
   ]
  },
  {
   "cell_type": "code",
   "execution_count": 1,
   "metadata": {},
   "outputs": [],
   "source": [
    "from nltk.corpus import words\n",
    "import random\n",
    "import itertools\n",
    "import logging\n",
    "import numpy as np\n",
    "logging.basicConfig(level=logging.DEBUG)\n",
    "logger = logging.getLogger()\n",
    "random.seed(0)"
   ]
  },
  {
   "cell_type": "markdown",
   "metadata": {},
   "source": [
    "### One loop"
   ]
  },
  {
   "cell_type": "code",
   "execution_count": 4,
   "metadata": {},
   "outputs": [],
   "source": [
    "n = 3\n",
    "w = [3, 4, 2]\n",
    "v = [4, 5, 3]\n",
    "W = 7\n",
    "dp = np.zeros((n+1, W+1))"
   ]
  },
  {
   "cell_type": "code",
   "execution_count": 6,
   "metadata": {},
   "outputs": [],
   "source": [
    "for i in range(n):\n",
    "    for j in range(W+1):\n",
    "        if j < w[i]:\n",
    "            dp[i+1][j] = dp[i][j]\n",
    "        else:\n",
    "            dp[i+1][j] = max(dp[i][j], dp[i+1][j-w[i]]+v[i])"
   ]
  },
  {
   "cell_type": "code",
   "execution_count": 7,
   "metadata": {},
   "outputs": [
    {
     "data": {
      "text/plain": [
       "array([[ 0.,  0.,  0.,  0.,  0.,  0.,  0.,  0.],\n",
       "       [ 0.,  0.,  0.,  4.,  4.,  4.,  8.,  8.],\n",
       "       [ 0.,  0.,  0.,  4.,  5.,  5.,  8.,  9.],\n",
       "       [ 0.,  0.,  3.,  4.,  6.,  7.,  9., 10.]])"
      ]
     },
     "execution_count": 7,
     "metadata": {},
     "output_type": "execute_result"
    }
   ],
   "source": [
    "dp"
   ]
  },
  {
   "cell_type": "markdown",
   "metadata": {},
   "source": [
    "### 01"
   ]
  },
  {
   "cell_type": "code",
   "execution_count": 17,
   "metadata": {},
   "outputs": [],
   "source": [
    "n = 3\n",
    "w = [3, 4, 2]\n",
    "v = [4, 5, 3]\n",
    "W = 7\n",
    "dp = np.zeros((W+1))"
   ]
  },
  {
   "cell_type": "code",
   "execution_count": 18,
   "metadata": {},
   "outputs": [
    {
     "name": "stdout",
     "output_type": "stream",
     "text": [
      "[0. 0. 0. 0. 0. 0. 0. 4.]\n",
      "[0. 0. 0. 0. 0. 0. 4. 4.]\n",
      "[0. 0. 0. 0. 0. 4. 4. 4.]\n",
      "[0. 0. 0. 0. 4. 4. 4. 4.]\n",
      "[0. 0. 0. 4. 4. 4. 4. 4.]\n",
      "[0. 0. 0. 4. 4. 4. 4. 9.]\n",
      "[0. 0. 0. 4. 4. 4. 5. 9.]\n",
      "[0. 0. 0. 4. 4. 5. 5. 9.]\n",
      "[0. 0. 0. 4. 5. 5. 5. 9.]\n",
      "[0. 0. 0. 4. 5. 5. 5. 9.]\n",
      "[0. 0. 0. 4. 5. 5. 8. 9.]\n",
      "[0. 0. 0. 4. 5. 7. 8. 9.]\n",
      "[0. 0. 0. 4. 5. 7. 8. 9.]\n",
      "[0. 0. 0. 4. 5. 7. 8. 9.]\n",
      "[0. 0. 3. 4. 5. 7. 8. 9.]\n"
     ]
    }
   ],
   "source": [
    "for i in range(n):\n",
    "    for j in range(W, w[i]-1, -1):\n",
    "        dp[j] = max(dp[j], dp[j-w[i]]+v[i])\n",
    "        print(dp)"
   ]
  },
  {
   "cell_type": "code",
   "execution_count": 12,
   "metadata": {},
   "outputs": [
    {
     "data": {
      "text/plain": [
       "array([0., 0., 3., 4., 5., 7., 8., 9.])"
      ]
     },
     "execution_count": 12,
     "metadata": {},
     "output_type": "execute_result"
    }
   ],
   "source": [
    "dp"
   ]
  },
  {
   "cell_type": "code",
   "execution_count": 13,
   "metadata": {},
   "outputs": [],
   "source": [
    "n = 3\n",
    "w = [3, 4, 2]\n",
    "v = [4, 5, 3]\n",
    "W = 7\n",
    "dp = np.zeros((W+1))"
   ]
  },
  {
   "cell_type": "code",
   "execution_count": 14,
   "metadata": {},
   "outputs": [],
   "source": [
    "for i in range(n):\n",
    "    for j in range(w[i], W+1):\n",
    "        dp[j] = max(dp[j], dp[j-w[i]]+v[i])"
   ]
  },
  {
   "cell_type": "code",
   "execution_count": 15,
   "metadata": {},
   "outputs": [
    {
     "data": {
      "text/plain": [
       "array([ 0.,  0.,  3.,  4.,  6.,  7.,  9., 10.])"
      ]
     },
     "execution_count": 15,
     "metadata": {},
     "output_type": "execute_result"
    }
   ],
   "source": [
    "dp"
   ]
  },
  {
   "cell_type": "code",
   "execution_count": 23,
   "metadata": {},
   "outputs": [],
   "source": [
    "n = 3\n",
    "w = [3, 4, 2]\n",
    "v = [4, 5, 3]\n",
    "W = 7\n",
    "dp = np.zeros((2, W+1))"
   ]
  },
  {
   "cell_type": "code",
   "execution_count": 24,
   "metadata": {},
   "outputs": [],
   "source": [
    "for i in range(0, n):\n",
    "    for j in range(0, W+1):\n",
    "        if j < w[i]:\n",
    "            dp[(i+1) & 1][j] = dp[i&1][j]\n",
    "        else:\n",
    "            dp[(i+1)&1][j] = max(dp[i&1][j], dp[(i+1)&1][j-w[i]]+v[i])"
   ]
  },
  {
   "cell_type": "code",
   "execution_count": 25,
   "metadata": {},
   "outputs": [
    {
     "data": {
      "text/plain": [
       "array([[ 0.,  0.,  0.,  4.,  5.,  5.,  8.,  9.],\n",
       "       [ 0.,  0.,  3.,  4.,  6.,  7.,  9., 10.]])"
      ]
     },
     "execution_count": 25,
     "metadata": {},
     "output_type": "execute_result"
    }
   ],
   "source": [
    "dp"
   ]
  },
  {
   "cell_type": "markdown",
   "metadata": {},
   "source": [
    "# Napzack 02"
   ]
  },
  {
   "cell_type": "code",
   "execution_count": 28,
   "metadata": {},
   "outputs": [],
   "source": [
    "n = 4\n",
    "w = np.array([2,1,3,2])\n",
    "v = np.array([3,2,4,2])\n",
    "W = 5"
   ]
  },
  {
   "cell_type": "code",
   "execution_count": 27,
   "metadata": {},
   "outputs": [
    {
     "data": {
      "text/plain": [
       "inf"
      ]
     },
     "execution_count": 27,
     "metadata": {},
     "output_type": "execute_result"
    }
   ],
   "source": [
    "np.inf"
   ]
  },
  {
   "cell_type": "code",
   "execution_count": 31,
   "metadata": {},
   "outputs": [],
   "source": [
    "dp = np.ones((n+1, n*max(v)+1))*np.inf"
   ]
  },
  {
   "cell_type": "code",
   "execution_count": 33,
   "metadata": {},
   "outputs": [],
   "source": [
    "dp[0][0] = 0\n",
    "for i in range(n):\n",
    "    for j in range(n*max(v)+1):\n",
    "        if j < v[i]:\n",
    "            dp[i+1][j] = dp[i][j]\n",
    "        else:\n",
    "            dp[i+1][j] = min(dp[i][j], dp[i][j-v[i]] + w[i])"
   ]
  },
  {
   "cell_type": "code",
   "execution_count": 34,
   "metadata": {},
   "outputs": [
    {
     "data": {
      "text/plain": [
       "array([[ 0., inf, inf, inf, inf, inf, inf, inf, inf, inf, inf, inf, inf,\n",
       "        inf, inf, inf, inf],\n",
       "       [ 0., inf, inf,  2., inf, inf, inf, inf, inf, inf, inf, inf, inf,\n",
       "        inf, inf, inf, inf],\n",
       "       [ 0., inf,  1.,  2., inf,  3., inf, inf, inf, inf, inf, inf, inf,\n",
       "        inf, inf, inf, inf],\n",
       "       [ 0., inf,  1.,  2.,  3.,  3.,  4.,  5., inf,  6., inf, inf, inf,\n",
       "        inf, inf, inf, inf],\n",
       "       [ 0., inf,  1.,  2.,  3.,  3.,  4.,  5.,  6.,  6., inf,  8., inf,\n",
       "        inf, inf, inf, inf]])"
      ]
     },
     "execution_count": 34,
     "metadata": {},
     "output_type": "execute_result"
    }
   ],
   "source": [
    "dp"
   ]
  },
  {
   "cell_type": "markdown",
   "metadata": {},
   "source": [
    "## 総和"
   ]
  },
  {
   "cell_type": "code",
   "execution_count": 42,
   "metadata": {},
   "outputs": [],
   "source": [
    "n = 3\n",
    "a = [3, 5, 8]\n",
    "m = [3, 2, 2]\n",
    "K = 17"
   ]
  },
  {
   "cell_type": "code",
   "execution_count": 44,
   "metadata": {},
   "outputs": [],
   "source": [
    "dp = np.zeros((n+1, K+1), dtype=bool)\n",
    "dp[0][0] = True \n",
    "\n",
    "for i in range(n):\n",
    "    for j in range(K+1):\n",
    "        k = 0\n",
    "        while((k <= m[i]) & (k * a[i] <= j)):\n",
    "            dp[i+1][j] |= dp[i][j - k*a[i]]\n",
    "            k += 1"
   ]
  },
  {
   "cell_type": "code",
   "execution_count": 45,
   "metadata": {},
   "outputs": [
    {
     "data": {
      "text/plain": [
       "array([[ True, False, False, False, False, False, False, False, False,\n",
       "        False, False, False, False, False, False, False, False, False],\n",
       "       [ True, False, False,  True, False, False,  True, False, False,\n",
       "         True, False, False, False, False, False, False, False, False],\n",
       "       [ True, False, False,  True, False,  True,  True, False,  True,\n",
       "         True,  True,  True, False,  True,  True, False,  True, False],\n",
       "       [ True, False, False,  True, False,  True,  True, False,  True,\n",
       "         True,  True,  True, False,  True,  True, False,  True,  True]])"
      ]
     },
     "execution_count": 45,
     "metadata": {},
     "output_type": "execute_result"
    }
   ],
   "source": [
    "dp"
   ]
  },
  {
   "cell_type": "code",
   "execution_count": 53,
   "metadata": {},
   "outputs": [],
   "source": [
    "dp = np.ones(K+1)*-1\n",
    "dp[0] = 0\n",
    "\n",
    "for i in range(n):\n",
    "    for j in range(K+1):\n",
    "        if dp[j] >= 0:\n",
    "            dp[j] = m[i]\n",
    "        elif (j < a[i]) | (dp[j-a[i]]<= 0):\n",
    "            dp[j] = -1\n",
    "        else:\n",
    "            dp[j] = dp[j-a[i]] - 1"
   ]
  },
  {
   "cell_type": "code",
   "execution_count": 55,
   "metadata": {},
   "outputs": [
    {
     "data": {
      "text/plain": [
       "1.0"
      ]
     },
     "execution_count": 55,
     "metadata": {},
     "output_type": "execute_result"
    }
   ],
   "source": [
    "dp[K]"
   ]
  },
  {
   "cell_type": "code",
   "execution_count": 56,
   "metadata": {},
   "outputs": [
    {
     "data": {
      "text/plain": [
       "array([ 2., -1., -1.,  2., -1.,  2.,  2., -1.,  2.,  2.,  2.,  2., -1.,\n",
       "        2.,  2., -1.,  2.,  1.])"
      ]
     },
     "execution_count": 56,
     "metadata": {},
     "output_type": "execute_result"
    }
   ],
   "source": [
    "dp"
   ]
  },
  {
   "cell_type": "markdown",
   "metadata": {},
   "source": [
    "## 最長増加部分列\n",
    "- dp[i] 最後が a[i] である最長の部分列の長さ"
   ]
  },
  {
   "cell_type": "code",
   "execution_count": 58,
   "metadata": {},
   "outputs": [],
   "source": [
    "n = 5\n",
    "a = [4,2,3,1,5]"
   ]
  },
  {
   "cell_type": "code",
   "execution_count": 60,
   "metadata": {},
   "outputs": [
    {
     "name": "stdout",
     "output_type": "stream",
     "text": [
      "3.0\n"
     ]
    }
   ],
   "source": [
    "dp = np.zeros(n+1)\n",
    "for i in range(n):\n",
    "    dp[i] = 1\n",
    "    for j in range(i):\n",
    "        if not a[j] < a[i]:\n",
    "            continue\n",
    "        dp[i] = max(dp[i], dp[j]+1)\n",
    "\n",
    "print(max(0, dp[i])) "
   ]
  },
  {
   "cell_type": "raw",
   "metadata": {},
   "source": [
    "長さが i+1 である部分増加列における最終要素の最小値"
   ]
  },
  {
   "cell_type": "code",
   "execution_count": 65,
   "metadata": {},
   "outputs": [],
   "source": [
    "dp = np.ones(n+1)*np.inf\n",
    "for i in range(n):\n",
    "    index = np.searchsorted(dp, a[i])\n",
    "    dp[index] = a[i]"
   ]
  },
  {
   "cell_type": "code",
   "execution_count": 66,
   "metadata": {},
   "outputs": [
    {
     "data": {
      "text/plain": [
       "array([ 1.,  3.,  5., inf, inf, inf])"
      ]
     },
     "execution_count": 66,
     "metadata": {},
     "output_type": "execute_result"
    }
   ],
   "source": [
    "dp"
   ]
  },
  {
   "cell_type": "code",
   "execution_count": 64,
   "metadata": {},
   "outputs": [
    {
     "data": {
      "text/plain": [
       "0"
      ]
     },
     "execution_count": 64,
     "metadata": {},
     "output_type": "execute_result"
    }
   ],
   "source": []
  },
  {
   "cell_type": "markdown",
   "metadata": {},
   "source": [
    "### 分割"
   ]
  },
  {
   "cell_type": "code",
   "execution_count": 79,
   "metadata": {},
   "outputs": [],
   "source": [
    "n = 4\n",
    "m = 3\n",
    "M = 10000\n",
    "dp = np.zeros((m+1, n+1))\n",
    "\n",
    "dp[0][0]=1\n",
    "for i in range(1, m+1):\n",
    "    for j in range(n+1):\n",
    "        if (j-i >=0):\n",
    "            dp[i][j] = (dp[i-1][j] + dp[i][j-i]) % M\n",
    "        else:\n",
    "            dp[i][j] = dp[i-1][j]"
   ]
  },
  {
   "cell_type": "code",
   "execution_count": 80,
   "metadata": {},
   "outputs": [
    {
     "data": {
      "text/plain": [
       "array([[1., 0., 0., 0., 0.],\n",
       "       [1., 1., 1., 1., 1.],\n",
       "       [1., 1., 2., 2., 3.],\n",
       "       [1., 1., 2., 3., 4.]])"
      ]
     },
     "execution_count": 80,
     "metadata": {},
     "output_type": "execute_result"
    }
   ],
   "source": [
    "dp"
   ]
  },
  {
   "cell_type": "code",
   "execution_count": 72,
   "metadata": {},
   "outputs": [
    {
     "data": {
      "text/plain": [
       "4.0"
      ]
     },
     "execution_count": 72,
     "metadata": {},
     "output_type": "execute_result"
    }
   ],
   "source": [
    "dp[m][n]"
   ]
  },
  {
   "cell_type": "code",
   "execution_count": 74,
   "metadata": {},
   "outputs": [
    {
     "data": {
      "text/plain": [
       "3.0"
      ]
     },
     "execution_count": 74,
     "metadata": {},
     "output_type": "execute_result"
    }
   ],
   "source": [
    "dp[2][4]"
   ]
  },
  {
   "cell_type": "markdown",
   "metadata": {},
   "source": [
    "### 重複組合せ"
   ]
  },
  {
   "cell_type": "code",
   "execution_count": 81,
   "metadata": {},
   "outputs": [],
   "source": [
    "n = 3\n",
    "m = 3\n",
    "a = [1,2,3]\n",
    "M = 10000"
   ]
  },
  {
   "cell_type": "code",
   "execution_count": 82,
   "metadata": {},
   "outputs": [],
   "source": [
    "dp = np.zeros((n+1, m+1))"
   ]
  },
  {
   "cell_type": "code",
   "execution_count": 84,
   "metadata": {},
   "outputs": [],
   "source": [
    "# 1つも選ばない\n",
    "for i in range(n+1):\n",
    "    dp[i][0] = 1 \n",
    "\n",
    "for i in range(n):\n",
    "    for j in range(m+1):\n",
    "        if j - 1 - a[i] >= 0:\n",
    "            dp[i+1][j] = (dp[i+1][j-1] + dp[i][j] - dp[i][j-1-a[i]] + M) % M\n",
    "        else:\n",
    "            dp[i+1][j] = (dp[i+1][j-1] + dp[i][j]) % M"
   ]
  },
  {
   "cell_type": "code",
   "execution_count": 85,
   "metadata": {},
   "outputs": [
    {
     "data": {
      "text/plain": [
       "array([[1., 0., 0., 0.],\n",
       "       [1., 1., 0., 0.],\n",
       "       [1., 2., 2., 1.],\n",
       "       [1., 3., 5., 6.]])"
      ]
     },
     "execution_count": 85,
     "metadata": {},
     "output_type": "execute_result"
    }
   ],
   "source": [
    "dp"
   ]
  },
  {
   "cell_type": "markdown",
   "metadata": {},
   "source": [
    "# Heap"
   ]
  },
  {
   "cell_type": "code",
   "execution_count": 93,
   "metadata": {},
   "outputs": [],
   "source": [
    "n = 10\n",
    "size = 0\n",
    "heap = np.zeros(n)\n",
    "\n",
    "def push(x: int):\n",
    "    size += 1\n",
    "    i = size\n",
    "    \n",
    "    while i > 0:\n",
    "        # parent\n",
    "        p = int((i-1)/2)\n",
    "        \n",
    "        # break\n",
    "        if heap[p] <= x:\n",
    "            break\n",
    "\n",
    "        # 親をおろして自分が上に\n",
    "        heap[i] = heap[p]\n",
    "        i = p\n",
    "    \n",
    "    heap[i] = x\n",
    "\n",
    "def pop() -> int:\n",
    "    # 返り値\n",
    "    ret = heap[0]\n",
    "    # 根にもってくる\n",
    "    size -= 1\n",
    "    x = heap[size]\n",
    "    \n",
    "    # 根から下ろす\n",
    "    i = 0\n",
    "    while(i*2 + 1 < size):\n",
    "        # 子を比較\n",
    "        a = i*2 + 1\n",
    "        b = i*2 + 2\n",
    "        if(b < size & heap[b] < heap[a]):\n",
    "            a = b\n",
    "            \n",
    "        # 逆転していないなら終わり\n",
    "        if heap[a] >= x:\n",
    "            break\n",
    "        \n",
    "        # 子を持ち上げる\n",
    "        heap[i] = heap[a]\n",
    "        i = a\n",
    "    \n",
    "    heap[i] = x\n",
    "    \n",
    "    return ret\n",
    "        "
   ]
  },
  {
   "cell_type": "markdown",
   "metadata": {},
   "source": [
    "# ガソリン"
   ]
  },
  {
   "cell_type": "code",
   "execution_count": 112,
   "metadata": {},
   "outputs": [],
   "source": [
    "import heapq\n",
    "\n",
    "\n",
    "\n",
    "def solve():\n",
    "    N = 4\n",
    "    L = 25\n",
    "    P = 10\n",
    "    A = [10, 14, 20, 21]\n",
    "    B = [10,  5,  2,  4]\n",
    "    \n",
    "    # ゴールをガソリンスタンドに追加\n",
    "    A.append(L)\n",
    "    B.append(0)\n",
    "    N += 1\n",
    "\n",
    "    # ガソリンスタンド\n",
    "    que = []\n",
    "    heapq.heapify(que)\n",
    "    ans = 0\n",
    "    pos = 0\n",
    "    tank = P\n",
    "\n",
    "    for i in range(N):\n",
    "        # 進む距離\n",
    "        d = A[i] - pos\n",
    "\n",
    "        # ガソリンを補給\n",
    "        while tank-d < 0:\n",
    "            if len(que) == 0:\n",
    "                return -1\n",
    "            \n",
    "            # reverse the heap\n",
    "            tank -= heapq.heappop(que)\n",
    "            ans += 1\n",
    "        \n",
    "        tank -= d\n",
    "        pos = A[i]\n",
    "        heapq.heappush(que, -B[i])\n",
    "    \n",
    "    return ans"
   ]
  },
  {
   "cell_type": "code",
   "execution_count": 113,
   "metadata": {},
   "outputs": [
    {
     "data": {
      "text/plain": [
       "2"
      ]
     },
     "execution_count": 113,
     "metadata": {},
     "output_type": "execute_result"
    }
   ],
   "source": [
    "solve()"
   ]
  },
  {
   "cell_type": "markdown",
   "metadata": {},
   "source": [
    "# Fence repair"
   ]
  },
  {
   "cell_type": "code",
   "execution_count": 123,
   "metadata": {},
   "outputs": [],
   "source": [
    "N = 3\n",
    "L = [8, 5, 8]\n",
    "\n",
    "ans = 0\n",
    "ll = 0\n",
    "\n",
    "que = []\n",
    "heapq.heapify(que)\n",
    "for i in range(N):\n",
    "    heapq.heappush(que, L[i])\n",
    "\n",
    "while(len(que) > 1):\n",
    "    l1 = heapq.heappop(que)\n",
    "    l2 = heapq.heappop(que)\n",
    "    \n",
    "    ans += l1 + l2\n",
    "    heapq.heappush(que, l1+l2)"
   ]
  },
  {
   "cell_type": "code",
   "execution_count": 124,
   "metadata": {},
   "outputs": [
    {
     "data": {
      "text/plain": [
       "[21]"
      ]
     },
     "execution_count": 124,
     "metadata": {},
     "output_type": "execute_result"
    }
   ],
   "source": [
    "que"
   ]
  },
  {
   "cell_type": "markdown",
   "metadata": {},
   "source": [
    "# Union find tree"
   ]
  },
  {
   "cell_type": "code",
   "execution_count": 236,
   "metadata": {},
   "outputs": [],
   "source": [
    "class UnionFindTree():\n",
    "    def __init__(self, n:int):\n",
    "        self.n = n\n",
    "        self.par = np.array(range(n))\n",
    "        self.rank = np.zeros((n,), dtype = np.int8)\n",
    "    \n",
    "    def find(self, x: int):\n",
    "        if self.par[x] == x:\n",
    "            return x\n",
    "        else:\n",
    "            self.par[x] = self.find(self.par[x])\n",
    "            return self.par[x]\n",
    "    \n",
    "    def unite(self, x: int, y:int):\n",
    "        x = self.find(x)\n",
    "        y = self.find(y)\n",
    "        if x == y:\n",
    "            return\n",
    "        \n",
    "        if self.rank[x] < self.rank[y]:\n",
    "            self.par[x] = y\n",
    "        else:\n",
    "            self.par[y] = x\n",
    "            if self.rank[x] == self.rank[y]:\n",
    "                self.rank[x] += 1\n",
    "    \n",
    "    def same(self, x: int, y: int) -> bool:\n",
    "        return self.find(x) == self.find(y)"
   ]
  },
  {
   "cell_type": "code",
   "execution_count": null,
   "metadata": {},
   "outputs": [],
   "source": []
  },
  {
   "cell_type": "code",
   "execution_count": null,
   "metadata": {},
   "outputs": [],
   "source": []
  },
  {
   "cell_type": "code",
   "execution_count": 237,
   "metadata": {},
   "outputs": [
    {
     "name": "stderr",
     "output_type": "stream",
     "text": [
      "DEBUG:root:Check i: 0\n",
      "DEBUG:root:Out of bounds, x:100, y:0, N:100\n",
      "DEBUG:root:Check i: 1\n",
      "DEBUG:root:Check i: 2\n",
      "DEBUG:root:Check i: 3\n",
      "DEBUG:root:Same type\n",
      "DEBUG:root:Check i: 4\n",
      "DEBUG:root:Eats\n",
      "DEBUG:root:Check i: 5\n",
      "DEBUG:root:Check i: 6\n"
     ]
    }
   ],
   "source": [
    "N = 100\n",
    "K = 7\n",
    "T = [1,  2,2,2,1,2,1,]\n",
    "X = [101,1,2,3,1,3,5,] \n",
    "Y = [1,  2,3,3,3,1,5,]\n",
    "\n",
    "tree = UnionFindTree(N*3)\n",
    "ans = 0\n",
    "for i in range(K):\n",
    "    t = T[i]\n",
    "    x = X[i] - 1\n",
    "    y = Y[i] - 1\n",
    "    \n",
    "    def correct_input():\n",
    "        if x < 0:\n",
    "            return False\n",
    "        if N <= x:\n",
    "            return False\n",
    "        if y < 0:\n",
    "            return False\n",
    "        if N <= y:\n",
    "            return False\n",
    "        return True\n",
    "    \n",
    "    def logic():\n",
    "        # 正しくない番号\n",
    "        if not correct_input():\n",
    "            logger.debug(f\"Out of bounds, x:{x}, y:{y}, N:{N}\")\n",
    "            return 1\n",
    "\n",
    "        if t == 1:\n",
    "            # x と y は同じ種類\n",
    "            if tree.same(x, y + N):\n",
    "                logger.debug(\"Eats\")\n",
    "                return 1\n",
    "    \n",
    "            if tree.same(x, y + 2*N):\n",
    "                logger.debug(\"Eats\")\n",
    "                return 1\n",
    "\n",
    "            tree.unite(x,y)\n",
    "            tree.unite(x+N, y+N)\n",
    "            tree.unite(x+N*2, y+N*2)\n",
    "            return 0\n",
    "\n",
    "        if t == 2:\n",
    "            # x は y を食べる\n",
    "            if tree.same(x, y):\n",
    "                logger.debug(\"Same type\")\n",
    "                return 1\n",
    "            \n",
    "            if tree.same(x, y+2*N):\n",
    "                logger.debug(\"Same type\")\n",
    "                return 1\n",
    "\n",
    "            tree.unite(x, y + N)\n",
    "            tree.unite(x + N, y + 2*N)\n",
    "            tree.unite(x + 2*N, y)\n",
    "            return 0\n",
    "    \n",
    "    logger.debug(f\"Check i: {i}\")\n",
    "    ans += logic()\n",
    "            \n",
    "        "
   ]
  },
  {
   "cell_type": "code",
   "execution_count": 238,
   "metadata": {},
   "outputs": [
    {
     "data": {
      "text/plain": [
       "3"
      ]
     },
     "execution_count": 238,
     "metadata": {},
     "output_type": "execute_result"
    }
   ],
   "source": [
    "ans"
   ]
  },
  {
   "cell_type": "code",
   "execution_count": null,
   "metadata": {},
   "outputs": [],
   "source": []
  }
 ],
 "metadata": {
  "kernelspec": {
   "display_name": "Python 3",
   "language": "python",
   "name": "python3"
  },
  "language_info": {
   "codemirror_mode": {
    "name": "ipython",
    "version": 3
   },
   "file_extension": ".py",
   "mimetype": "text/x-python",
   "name": "python",
   "nbconvert_exporter": "python",
   "pygments_lexer": "ipython3",
   "version": "3.7.0"
  }
 },
 "nbformat": 4,
 "nbformat_minor": 4
}
