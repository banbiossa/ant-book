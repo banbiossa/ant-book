{
 "cells": [
  {
   "cell_type": "markdown",
   "metadata": {},
   "source": [
    "# 0.3_ss_chap-2-3"
   ]
  },
  {
   "cell_type": "markdown",
   "metadata": {},
   "source": [
    "## 最大共通文字列"
   ]
  },
  {
   "cell_type": "markdown",
   "metadata": {},
   "source": [
    "### Greedy"
   ]
  },
  {
   "cell_type": "code",
   "execution_count": 98,
   "metadata": {},
   "outputs": [],
   "source": [
    "from nltk.corpus import words\n",
    "import random\n",
    "import itertools\n",
    "import logging\n",
    "import numpy as np\n",
    "logging.basicConfig(level=logging.DEBUG)\n",
    "logger = logging.getLogger()\n",
    "random.seed(0)"
   ]
  },
  {
   "cell_type": "code",
   "execution_count": 28,
   "metadata": {},
   "outputs": [],
   "source": [
    "def random_word():\n",
    "    return random.choice(words.words())"
   ]
  },
  {
   "cell_type": "code",
   "execution_count": 34,
   "metadata": {},
   "outputs": [
    {
     "data": {
      "text/plain": [
       "'unravelled'"
      ]
     },
     "execution_count": 34,
     "metadata": {},
     "output_type": "execute_result"
    }
   ],
   "source": [
    "word = random_word()\n",
    "word"
   ]
  },
  {
   "cell_type": "code",
   "execution_count": 35,
   "metadata": {},
   "outputs": [
    {
     "data": {
      "text/plain": [
       "'kakistocracy'"
      ]
     },
     "execution_count": 35,
     "metadata": {},
     "output_type": "execute_result"
    }
   ],
   "source": [
    "compare = random_word()\n",
    "compare"
   ]
  },
  {
   "cell_type": "code",
   "execution_count": 64,
   "metadata": {},
   "outputs": [],
   "source": [
    "def forward_slice_word(word, n):\n",
    "    ''' 前から n 文字を返す '''\n",
    "    return word if n == 0 else word[0:-n]"
   ]
  },
  {
   "cell_type": "code",
   "execution_count": 65,
   "metadata": {},
   "outputs": [],
   "source": [
    "for i in range(len(word)):\n",
    "    substr = forward_slice_word(word, i)"
   ]
  },
  {
   "cell_type": "code",
   "execution_count": 66,
   "metadata": {},
   "outputs": [
    {
     "data": {
      "text/plain": [
       "'u'"
      ]
     },
     "execution_count": 66,
     "metadata": {},
     "output_type": "execute_result"
    }
   ],
   "source": [
    "substr"
   ]
  },
  {
   "cell_type": "markdown",
   "metadata": {},
   "source": [
    "#### 先頭の文字も変えないとだ"
   ]
  },
  {
   "cell_type": "code",
   "execution_count": 69,
   "metadata": {},
   "outputs": [
    {
     "data": {
      "text/plain": [
       "'unrav'"
      ]
     },
     "execution_count": 69,
     "metadata": {},
     "output_type": "execute_result"
    }
   ],
   "source": [
    "word[0:5]"
   ]
  },
  {
   "cell_type": "code",
   "execution_count": 78,
   "metadata": {},
   "outputs": [
    {
     "data": {
      "text/plain": [
       "'unravelled'"
      ]
     },
     "execution_count": 78,
     "metadata": {},
     "output_type": "execute_result"
    }
   ],
   "source": [
    "word[0:10]"
   ]
  },
  {
   "cell_type": "code",
   "execution_count": 79,
   "metadata": {},
   "outputs": [
    {
     "data": {
      "text/plain": [
       "10"
      ]
     },
     "execution_count": 79,
     "metadata": {},
     "output_type": "execute_result"
    }
   ],
   "source": [
    "len(word)"
   ]
  },
  {
   "cell_type": "code",
   "execution_count": 95,
   "metadata": {},
   "outputs": [],
   "source": [
    "def max_substr(word, compare):\n",
    "    logger.debug(f\"Which part of {word} is in {compare}?\")\n",
    "    max_len = 0\n",
    "    max_part = ''\n",
    "    for start, end in itertools.combinations(range(len(word)+1), 2):\n",
    "        substr = word[start:end]\n",
    "        if substr in compare: # ちゃんと書いたほうがいいかも\n",
    "            if len(substr) > max_len:\n",
    "                max_len = len(substr)\n",
    "                max_part = substr\n",
    "    logger.debug(f\"Max part is {max_part}, length {max_len}\")\n",
    "    return max_len, max_part"
   ]
  },
  {
   "cell_type": "code",
   "execution_count": 97,
   "metadata": {},
   "outputs": [
    {
     "name": "stderr",
     "output_type": "stream",
     "text": [
      "DEBUG:root:Which part of pilipilula is in brit?\n",
      "DEBUG:root:Max part is i, length 1\n",
      "DEBUG:root:Which part of incast is in Mennonist?\n",
      "DEBUG:root:Max part is st, length 2\n",
      "DEBUG:root:Which part of hawthorny is in punta?\n",
      "DEBUG:root:Max part is a, length 1\n",
      "DEBUG:root:Which part of resonance is in dignification?\n",
      "DEBUG:root:Max part is on, length 2\n",
      "DEBUG:root:Which part of phlogistian is in nonabiding?\n",
      "DEBUG:root:Max part is o, length 1\n",
      "DEBUG:root:Which part of midnoon is in valorous?\n",
      "DEBUG:root:Max part is o, length 1\n",
      "DEBUG:root:Which part of ozena is in farcically?\n",
      "DEBUG:root:Max part is a, length 1\n",
      "DEBUG:root:Which part of autopsychoanalysis is in unalloyed?\n",
      "DEBUG:root:Max part is nal, length 3\n",
      "DEBUG:root:Which part of petzite is in afternoons?\n",
      "DEBUG:root:Max part is te, length 2\n",
      "DEBUG:root:Which part of bombardon is in starbloom?\n",
      "DEBUG:root:Max part is om, length 2\n"
     ]
    }
   ],
   "source": [
    "for i in range(10):\n",
    "    max_substr(random_word(), random_word())"
   ]
  },
  {
   "cell_type": "code",
   "execution_count": 101,
   "metadata": {},
   "outputs": [],
   "source": [
    "n = len(word)\n",
    "m = len(compare)\n",
    "dp = np.zeros((n+1, m+1))"
   ]
  },
  {
   "cell_type": "code",
   "execution_count": 116,
   "metadata": {},
   "outputs": [],
   "source": [
    "def max_substr_dp(word, compare):\n",
    "    logger.debug(f\"Which part of {word} is in {compare}?\")\n",
    "    \n",
    "    n = len(word)\n",
    "    m = len(compare)\n",
    "    dp = np.zeros((n+1, m+1))\n",
    "    answer = {}\n",
    "\n",
    "    for i in range(n):\n",
    "        for j in range(m):\n",
    "            if word[i] == compare[j]:\n",
    "                dp[i+1][j+1] = dp[i][j] + 1\n",
    "                answer.update({i: word[i]})\n",
    "            else:\n",
    "                dp[i+1][j+1] = max(dp[i][j+1], dp[i+1][j])\n",
    "                \n",
    "    # assert dp[n][m] == len(answer)\n",
    "    logger.debug(f\"Max part is answer: {answer}, len: {len(answer)}, dp: {dp[n][m]}\")\n",
    "    return answer, dp"
   ]
  },
  {
   "cell_type": "code",
   "execution_count": 117,
   "metadata": {},
   "outputs": [
    {
     "name": "stderr",
     "output_type": "stream",
     "text": [
      "DEBUG:root:Which part of mailed is in antiquarianize?\n",
      "DEBUG:root:Max part is answer: {1: 'a', 2: 'i', 4: 'e'}, len: 3, dp: 3.0\n",
      "DEBUG:root:Which part of fadeless is in outwalk?\n",
      "DEBUG:root:Max part is answer: {1: 'a', 4: 'l'}, len: 2, dp: 2.0\n",
      "DEBUG:root:Which part of nonshaft is in levity?\n",
      "DEBUG:root:Max part is answer: {7: 't'}, len: 1, dp: 1.0\n",
      "DEBUG:root:Which part of tractarianize is in unhedge?\n",
      "DEBUG:root:Max part is answer: {9: 'n', 12: 'e'}, len: 2, dp: 2.0\n",
      "DEBUG:root:Which part of granulitize is in noise?\n",
      "DEBUG:root:Max part is answer: {3: 'n', 6: 'i', 8: 'i', 10: 'e'}, len: 4, dp: 3.0\n",
      "DEBUG:root:Which part of indusium is in precisianist?\n",
      "DEBUG:root:Max part is answer: {0: 'i', 1: 'n', 4: 's', 5: 'i'}, len: 4, dp: 3.0\n",
      "DEBUG:root:Which part of writhen is in douc?\n",
      "DEBUG:root:Max part is answer: {}, len: 0, dp: 0.0\n",
      "DEBUG:root:Which part of orogeny is in circuitman?\n",
      "DEBUG:root:Max part is answer: {1: 'r', 5: 'n'}, len: 2, dp: 2.0\n",
      "DEBUG:root:Which part of frozen is in circumnutate?\n",
      "DEBUG:root:Max part is answer: {1: 'r', 4: 'e', 5: 'n'}, len: 3, dp: 2.0\n",
      "DEBUG:root:Which part of tantalic is in borine?\n",
      "DEBUG:root:Max part is answer: {2: 'n', 6: 'i'}, len: 2, dp: 1.0\n"
     ]
    }
   ],
   "source": [
    "for i in range(10):\n",
    "    max_substr_dp(random_word(), random_word())"
   ]
  },
  {
   "cell_type": "markdown",
   "metadata": {},
   "source": [
    "### One loop"
   ]
  },
  {
   "cell_type": "code",
   "execution_count": 118,
   "metadata": {},
   "outputs": [
    {
     "ename": "NameError",
     "evalue": "name 'W' is not defined",
     "output_type": "error",
     "traceback": [
      "\u001b[0;31m---------------------------------------------------------------------------\u001b[0m",
      "\u001b[0;31mNameError\u001b[0m                                 Traceback (most recent call last)",
      "\u001b[0;32m<ipython-input-118-de8b20576dee>\u001b[0m in \u001b[0;36m<module>\u001b[0;34m\u001b[0m\n\u001b[1;32m      1\u001b[0m \u001b[0;32mfor\u001b[0m \u001b[0mi\u001b[0m \u001b[0;32min\u001b[0m \u001b[0mrange\u001b[0m\u001b[0;34m(\u001b[0m\u001b[0mn\u001b[0m\u001b[0;34m)\u001b[0m\u001b[0;34m:\u001b[0m\u001b[0;34m\u001b[0m\u001b[0m\n\u001b[0;32m----> 2\u001b[0;31m     \u001b[0;32mfor\u001b[0m \u001b[0mj\u001b[0m \u001b[0;32min\u001b[0m \u001b[0mrange\u001b[0m\u001b[0;34m(\u001b[0m\u001b[0mW\u001b[0m\u001b[0;34m+\u001b[0m\u001b[0;36m1\u001b[0m\u001b[0;34m)\u001b[0m\u001b[0;34m:\u001b[0m\u001b[0;34m\u001b[0m\u001b[0m\n\u001b[0m\u001b[1;32m      3\u001b[0m         \u001b[0;32mif\u001b[0m \u001b[0mj\u001b[0m \u001b[0;34m<\u001b[0m \u001b[0mw\u001b[0m\u001b[0;34m[\u001b[0m\u001b[0mi\u001b[0m\u001b[0;34m]\u001b[0m\u001b[0;34m:\u001b[0m\u001b[0;34m\u001b[0m\u001b[0m\n\u001b[1;32m      4\u001b[0m             \u001b[0mdp\u001b[0m\u001b[0;34m[\u001b[0m\u001b[0mi\u001b[0m\u001b[0;34m+\u001b[0m\u001b[0;36m1\u001b[0m\u001b[0;34m]\u001b[0m\u001b[0;34m[\u001b[0m\u001b[0mj\u001b[0m\u001b[0;34m]\u001b[0m \u001b[0;34m=\u001b[0m \u001b[0mdp\u001b[0m\u001b[0;34m[\u001b[0m\u001b[0mi\u001b[0m\u001b[0;34m]\u001b[0m\u001b[0;34m[\u001b[0m\u001b[0mj\u001b[0m\u001b[0;34m]\u001b[0m\u001b[0;34m\u001b[0m\u001b[0m\n\u001b[1;32m      5\u001b[0m         \u001b[0;32melse\u001b[0m\u001b[0;34m:\u001b[0m\u001b[0;34m\u001b[0m\u001b[0m\n",
      "\u001b[0;31mNameError\u001b[0m: name 'W' is not defined"
     ]
    }
   ],
   "source": [
    "for i in range(n):\n",
    "    for j in range(W+1):\n",
    "        if j < w[i]:\n",
    "            dp[i+1][j] = dp[i][j]\n",
    "        else:\n",
    "            dp[i+1][j] = max(d[i][j], dp[i+1][j-w[i]]+v[i])"
   ]
  },
  {
   "cell_type": "code",
   "execution_count": null,
   "metadata": {},
   "outputs": [],
   "source": []
  }
 ],
 "metadata": {
  "kernelspec": {
   "display_name": "Python 3",
   "language": "python",
   "name": "python3"
  },
  "language_info": {
   "codemirror_mode": {
    "name": "ipython",
    "version": 3
   },
   "file_extension": ".py",
   "mimetype": "text/x-python",
   "name": "python",
   "nbconvert_exporter": "python",
   "pygments_lexer": "ipython3",
   "version": "3.7.0"
  }
 },
 "nbformat": 4,
 "nbformat_minor": 4
}
