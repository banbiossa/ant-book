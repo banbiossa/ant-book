{
 "cells": [
  {
   "cell_type": "code",
   "execution_count": 7,
   "metadata": {},
   "outputs": [],
   "source": [
    "def gcd(a, b):\n",
    "    logger.info(f\"a: {a}, b: {b}\")\n",
    "    if b == 0:\n",
    "        return a\n",
    "    return gcd(b, a % b)"
   ]
  },
  {
   "cell_type": "code",
   "execution_count": null,
   "metadata": {},
   "outputs": [],
   "source": []
  },
  {
   "cell_type": "code",
   "execution_count": 4,
   "metadata": {},
   "outputs": [
    {
     "data": {
      "text/plain": [
       "3"
      ]
     },
     "execution_count": 4,
     "metadata": {},
     "output_type": "execute_result"
    }
   ],
   "source": [
    "gcd(12, 3)"
   ]
  },
  {
   "cell_type": "code",
   "execution_count": 7,
   "metadata": {},
   "outputs": [
    {
     "data": {
      "text/plain": [
       "5"
      ]
     },
     "execution_count": 7,
     "metadata": {},
     "output_type": "execute_result"
    }
   ],
   "source": [
    "gcd(2123935, 383035)"
   ]
  },
  {
   "cell_type": "code",
   "execution_count": 9,
   "metadata": {},
   "outputs": [
    {
     "data": {
      "text/plain": [
       "12"
      ]
     },
     "execution_count": 9,
     "metadata": {},
     "output_type": "execute_result"
    }
   ],
   "source": [
    "gcd(144, 60)"
   ]
  },
  {
   "cell_type": "markdown",
   "metadata": {},
   "source": [
    "# サイコロ"
   ]
  },
  {
   "cell_type": "code",
   "execution_count": 10,
   "metadata": {},
   "outputs": [],
   "source": [
    "a = 4\n",
    "b = 11"
   ]
  },
  {
   "cell_type": "code",
   "execution_count": null,
   "metadata": {},
   "outputs": [],
   "source": [
    "def extgcd(a, b, x, y):\n",
    "    ''' ax + by = 1 となる x, y を求める '''\n",
    "    assert type(a) == int\n",
    "    assert type(b) == int\n",
    "    d = a\n",
    "    if b != 0:\n",
    "        d = extgcd(b, a % b, y, x)\n",
    "        y -= int(a/b)*x\n",
    "    else:\n",
    "        x = 1\n",
    "        y = 0\n",
    "    return d"
   ]
  },
  {
   "cell_type": "code",
   "execution_count": 4,
   "metadata": {},
   "outputs": [],
   "source": [
    "if gcd(4, 11) != 1:\n",
    "    print(-1)"
   ]
  },
  {
   "cell_type": "code",
   "execution_count": 5,
   "metadata": {},
   "outputs": [],
   "source": [
    "a = 8\n",
    "b = 11"
   ]
  },
  {
   "cell_type": "code",
   "execution_count": 6,
   "metadata": {},
   "outputs": [],
   "source": [
    "if gcd(4, 11) != 1:\n",
    "    print(-1)"
   ]
  },
  {
   "cell_type": "markdown",
   "metadata": {},
   "source": [
    "# ax + by = 1"
   ]
  },
  {
   "cell_type": "code",
   "execution_count": 11,
   "metadata": {},
   "outputs": [],
   "source": [
    "import logging\n",
    "logger = logging.basicConfig(level = logging.DEBUG)\n",
    "logger = logging.getLogger()"
   ]
  },
  {
   "cell_type": "code",
   "execution_count": 8,
   "metadata": {},
   "outputs": [],
   "source": [
    "def gcd(a, b):\n",
    "    logger.info(f\"a: {a}, b: {b}\")\n",
    "    if b == 0:\n",
    "        return a\n",
    "    return gcd(b, a % b)"
   ]
  },
  {
   "cell_type": "code",
   "execution_count": 9,
   "metadata": {},
   "outputs": [],
   "source": [
    "\n",
    "a = 8\n",
    "b = 11"
   ]
  },
  {
   "cell_type": "code",
   "execution_count": 12,
   "metadata": {},
   "outputs": [
    {
     "name": "stderr",
     "output_type": "stream",
     "text": [
      "INFO:root:a: 3, b: 2\n",
      "INFO:root:a: 2, b: 1\n",
      "INFO:root:a: 1, b: 0\n"
     ]
    },
    {
     "data": {
      "text/plain": [
       "1"
      ]
     },
     "execution_count": 12,
     "metadata": {},
     "output_type": "execute_result"
    }
   ],
   "source": [
    "gcd(3, 2)"
   ]
  },
  {
   "cell_type": "code",
   "execution_count": 16,
   "metadata": {},
   "outputs": [],
   "source": [
    "def gcd(a, b):\n",
    "    assert a > 0 and b > 0\n",
    "    logger.info(f\"a: {a}, b: {b}\")\n",
    "    if b == 1:\n",
    "        return a\n",
    "    return gcd(b, a % b)"
   ]
  },
  {
   "cell_type": "code",
   "execution_count": 19,
   "metadata": {},
   "outputs": [
    {
     "name": "stderr",
     "output_type": "stream",
     "text": [
      "INFO:root:a: 4, b: 1\n"
     ]
    },
    {
     "data": {
      "text/plain": [
       "4"
      ]
     },
     "execution_count": 19,
     "metadata": {},
     "output_type": "execute_result"
    }
   ],
   "source": [
    "gcd(4, 1)"
   ]
  },
  {
   "cell_type": "code",
   "execution_count": 20,
   "metadata": {},
   "outputs": [
    {
     "name": "stderr",
     "output_type": "stream",
     "text": [
      "INFO:root:a: 3, b: 2\n",
      "INFO:root:a: 2, b: 1\n"
     ]
    },
    {
     "data": {
      "text/plain": [
       "2"
      ]
     },
     "execution_count": 20,
     "metadata": {},
     "output_type": "execute_result"
    }
   ],
   "source": [
    "gcd(3, 2)"
   ]
  },
  {
   "cell_type": "code",
   "execution_count": 24,
   "metadata": {},
   "outputs": [],
   "source": [
    "def extgcd(a, b, x=None, y=None):\n",
    "    ''' ax + by = 1 を解く. 同時に、gcd(a, b)を解く.\n",
    "    \n",
    "    gcd部分は gcd(a,b) = gcd(b, a%b) で解く\n",
    "    \n",
    "    ax + by = 1については、\n",
    "    ax + by = gcd(a, b) が bx' + (a%b)y' = gcd(a,b)として解けるとした時\n",
    "    a%b = a - int(a/b)*b より\n",
    "    gcd(a,b)\n",
    "    = ax + by\n",
    "    = bx' + (a%b)y'\n",
    "    = bx' + (a - int(a/b)*b)y' \n",
    "    = ay' + b(x' - int(a/b)y')\n",
    "    \n",
    "    より x = y', y = x' - int(a/b)y' となるので、\n",
    "    これを再帰が終わったとに計算するようにする\n",
    "    \n",
    "    Parameters\n",
    "    ----------\n",
    "    a,b,x,y\n",
    "    \n",
    "    Returns\n",
    "    -------\n",
    "    gcd, x, y?\n",
    "    '''\n",
    "    d = a\n",
    "    logger.info(f\"a: {a}, b: {b}, x: {x}, y: {y}\")\n",
    "    # 再帰関数の戻り値\n",
    "    if b == 0:\n",
    "        return a, 1, 0\n",
    "    \n",
    "    else:\n",
    "        # 再帰部分\n",
    "        # 再帰中に計算\n",
    "        # b, a%b は gcd(a, b) の計算\n",
    "        # x, y を計算する時に、y と x は入れ替え、上がってくる時に引く\n",
    "        d, x, y = extgcd(b, a%b, y, x)\n",
    "\n",
    "        # 帰ってくる時に計算\n",
    "        logger.info(f\"x: {x} y: {y} が\")\n",
    "        y -= int(a/b) * x\n",
    "        logger.info(f\"x: {x} y: {y} になる\")"
   ]
  },
  {
   "cell_type": "code",
   "execution_count": 25,
   "metadata": {},
   "outputs": [
    {
     "name": "stderr",
     "output_type": "stream",
     "text": [
      "INFO:root:a: 3, b: 2, x: None, y: None\n",
      "INFO:root:a: 2, b: 1, x: None, y: None\n",
      "INFO:root:a: 1, b: 0, x: None, y: None\n",
      "INFO:root:x: 1 y: 0 が\n",
      "INFO:root:x: 1 y: -2 になる\n"
     ]
    },
    {
     "ename": "TypeError",
     "evalue": "cannot unpack non-iterable NoneType object",
     "output_type": "error",
     "traceback": [
      "\u001b[0;31m---------------------------------------------------------------------------\u001b[0m",
      "\u001b[0;31mTypeError\u001b[0m                                 Traceback (most recent call last)",
      "\u001b[0;32m<ipython-input-25-780398e64092>\u001b[0m in \u001b[0;36m<module>\u001b[0;34m\u001b[0m\n\u001b[0;32m----> 1\u001b[0;31m \u001b[0mextgcd\u001b[0m\u001b[0;34m(\u001b[0m\u001b[0;36m3\u001b[0m\u001b[0;34m,\u001b[0m \u001b[0;36m2\u001b[0m\u001b[0;34m)\u001b[0m\u001b[0;34m\u001b[0m\u001b[0m\n\u001b[0m",
      "\u001b[0;32m<ipython-input-24-e7419512e13d>\u001b[0m in \u001b[0;36mextgcd\u001b[0;34m(a, b, x, y)\u001b[0m\n\u001b[1;32m     33\u001b[0m     \u001b[0;31m# b, a%b は gcd(a, b) の計算\u001b[0m\u001b[0;34m\u001b[0m\u001b[0;34m\u001b[0m\u001b[0m\n\u001b[1;32m     34\u001b[0m     \u001b[0;31m# x, y を計算する時に、y と x は入れ替え、上がってくる時に引く\u001b[0m\u001b[0;34m\u001b[0m\u001b[0;34m\u001b[0m\u001b[0m\n\u001b[0;32m---> 35\u001b[0;31m     \u001b[0md\u001b[0m\u001b[0;34m,\u001b[0m \u001b[0mx\u001b[0m\u001b[0;34m,\u001b[0m \u001b[0my\u001b[0m \u001b[0;34m=\u001b[0m \u001b[0mextgcd\u001b[0m\u001b[0;34m(\u001b[0m\u001b[0mb\u001b[0m\u001b[0;34m,\u001b[0m \u001b[0ma\u001b[0m\u001b[0;34m%\u001b[0m\u001b[0mb\u001b[0m\u001b[0;34m,\u001b[0m \u001b[0my\u001b[0m\u001b[0;34m,\u001b[0m \u001b[0mx\u001b[0m\u001b[0;34m)\u001b[0m\u001b[0;34m\u001b[0m\u001b[0m\n\u001b[0m\u001b[1;32m     36\u001b[0m \u001b[0;34m\u001b[0m\u001b[0m\n\u001b[1;32m     37\u001b[0m     \u001b[0;31m# 帰ってくる時に計算\u001b[0m\u001b[0;34m\u001b[0m\u001b[0;34m\u001b[0m\u001b[0m\n",
      "\u001b[0;31mTypeError\u001b[0m: cannot unpack non-iterable NoneType object"
     ]
    }
   ],
   "source": [
    "extgcd(3, 2)"
   ]
  },
  {
   "cell_type": "code",
   "execution_count": 64,
   "metadata": {},
   "outputs": [],
   "source": [
    "class Euclidan:\n",
    "    def __init__(self):\n",
    "        ''' ax + by = 1 を解く. 同時に、gcd(a, b)を解く.\n",
    "\n",
    "        gcd部分は gcd(a,b) = gcd(b, a%b) で解く\n",
    "\n",
    "        ax + by = 1については、\n",
    "        ax + by = gcd(a, b) が bx' + (a%b)y' = gcd(a,b)として解けるとした時\n",
    "        a%b = a - int(a/b)*b より\n",
    "        gcd(a,b)\n",
    "        = ax + by\n",
    "        = bx' + (a%b)y'\n",
    "        = bx' + (a - int(a/b)*b)y' \n",
    "        = ay' + b(x' - int(a/b)y')\n",
    "\n",
    "        より x = y', y = x' - int(a/b)y' となるので、\n",
    "        これを再帰が終わったとに計算するようにする\n",
    "\n",
    "        Attributes\n",
    "        -------\n",
    "        x, y?\n",
    "        '''\n",
    "        pass\n",
    "    \n",
    "    def solve(self, a, b) -> int:\n",
    "        ''' Solve the problem.\n",
    "        gcd part first, going up the tree later\n",
    "        \n",
    "        Parameters\n",
    "        ----------\n",
    "        a,b \n",
    "        \n",
    "        Returns\n",
    "        -------\n",
    "        gcd\n",
    "        '''\n",
    "        d = a\n",
    "        if b == 0:\n",
    "            self.x = 1\n",
    "            self.y = 0\n",
    "            self.answer(a, b)\n",
    "        else:\n",
    "            d = self.solve(b, a%b)\n",
    "\n",
    "            # x = y'\n",
    "            # y = x' - (a/b)*y'\n",
    "            self.x, self.y = self.y, self.x - int(a/b)*self.y\n",
    "            self.answer(a, b, d)\n",
    "        \n",
    "        return d\n",
    "\n",
    "    def state(self, message=\"\"):\n",
    "        ''' 状態をログに出力\n",
    "        '''\n",
    "        logger.debug(f\"{message} x: {self.x}, y: {self.y}\")\n",
    "    \n",
    "    def answer(self, a, b, d=None):\n",
    "        ''' 答えをログに出力\n",
    "        '''\n",
    "        logger.info(f\"{a}*{self.x} + {b}*{self.y} = {d}\")\n",
    "        if d is not None:\n",
    "            assert a*self.x + b*self.y == d\n",
    "        \n",
    "        \n",
    "        "
   ]
  },
  {
   "cell_type": "code",
   "execution_count": 65,
   "metadata": {},
   "outputs": [],
   "source": [
    "euclid = Euclidan()"
   ]
  },
  {
   "cell_type": "code",
   "execution_count": 66,
   "metadata": {},
   "outputs": [
    {
     "name": "stderr",
     "output_type": "stream",
     "text": [
      "INFO:root:1*1 + 0*0 = None\n",
      "INFO:root:2*0 + 1*1 = 1\n",
      "INFO:root:3*1 + 2*-1 = 1\n",
      "INFO:root:8*-1 + 3*3 = 1\n",
      "INFO:root:11*3 + 8*-4 = 1\n"
     ]
    },
    {
     "data": {
      "text/plain": [
       "1"
      ]
     },
     "execution_count": 66,
     "metadata": {},
     "output_type": "execute_result"
    }
   ],
   "source": [
    "euclid.solve(11, 8)"
   ]
  },
  {
   "cell_type": "markdown",
   "metadata": {},
   "source": [
    "# 素数判定"
   ]
  },
  {
   "cell_type": "code",
   "execution_count": 3,
   "metadata": {},
   "outputs": [],
   "source": [
    "def is_prime(n) -> bool:\n",
    "    '''素数判定'''\n",
    "    if n == 1:\n",
    "        return False\n",
    "    for i in range(2, n):\n",
    "        # sqrt(n) まで探す\n",
    "        if i*i > n:\n",
    "            logger.info(f\"Looked up to {i} for {n}\")\n",
    "            return True\n",
    "        \n",
    "        # i で割り切れる\n",
    "        if (n % i) == 0:\n",
    "            logger.info(f\"{n} can be divided by {i}\")\n",
    "            return False"
   ]
  },
  {
   "cell_type": "code",
   "execution_count": 72,
   "metadata": {},
   "outputs": [
    {
     "name": "stderr",
     "output_type": "stream",
     "text": [
      "INFO:root:Looked up to 8 for 53\n"
     ]
    },
    {
     "data": {
      "text/plain": [
       "True"
      ]
     },
     "execution_count": 72,
     "metadata": {},
     "output_type": "execute_result"
    }
   ],
   "source": [
    "is_prime(53)"
   ]
  },
  {
   "cell_type": "code",
   "execution_count": 73,
   "metadata": {},
   "outputs": [
    {
     "name": "stderr",
     "output_type": "stream",
     "text": [
      "INFO:root:295927 can be divided by 541\n"
     ]
    },
    {
     "data": {
      "text/plain": [
       "False"
      ]
     },
     "execution_count": 73,
     "metadata": {},
     "output_type": "execute_result"
    }
   ],
   "source": [
    "is_prime(295927)"
   ]
  },
  {
   "cell_type": "code",
   "execution_count": 82,
   "metadata": {},
   "outputs": [],
   "source": [
    "def divisor(n):\n",
    "    ''' 約数列挙 '''\n",
    "    res = set()\n",
    "    for i in range(1, n):\n",
    "        # sqrt(n) まで探す\n",
    "        if i*i > n:\n",
    "            logger.info(f\"Looked up to {i} for {n}\")\n",
    "            break\n",
    "        if (n%i) == 0:\n",
    "            res.add(i)\n",
    "            res.add(int(n/i))\n",
    "    return list(res)\n",
    "        \n",
    "    "
   ]
  },
  {
   "cell_type": "code",
   "execution_count": 86,
   "metadata": {},
   "outputs": [
    {
     "name": "stderr",
     "output_type": "stream",
     "text": [
      "INFO:root:Looked up to 6 for 25\n"
     ]
    },
    {
     "data": {
      "text/plain": [
       "[1, 5, 25]"
      ]
     },
     "execution_count": 86,
     "metadata": {},
     "output_type": "execute_result"
    }
   ],
   "source": [
    "divisor(25)"
   ]
  },
  {
   "cell_type": "code",
   "execution_count": 87,
   "metadata": {},
   "outputs": [],
   "source": [
    "import math"
   ]
  },
  {
   "cell_type": "code",
   "execution_count": 88,
   "metadata": {},
   "outputs": [
    {
     "ename": "NameError",
     "evalue": "name 'n' is not defined",
     "output_type": "error",
     "traceback": [
      "\u001b[0;31m---------------------------------------------------------------------------\u001b[0m",
      "\u001b[0;31mNameError\u001b[0m                                 Traceback (most recent call last)",
      "\u001b[0;32m<ipython-input-88-259ea552af6e>\u001b[0m in \u001b[0;36m<module>\u001b[0;34m\u001b[0m\n\u001b[0;32m----> 1\u001b[0;31m \u001b[0mMAX\u001b[0m \u001b[0;34m=\u001b[0m \u001b[0mint\u001b[0m\u001b[0;34m(\u001b[0m\u001b[0mmath\u001b[0m\u001b[0;34m.\u001b[0m\u001b[0msqrt\u001b[0m\u001b[0;34m(\u001b[0m\u001b[0mn\u001b[0m\u001b[0;34m)\u001b[0m\u001b[0;34m)\u001b[0m\u001b[0;34m\u001b[0m\u001b[0m\n\u001b[0m",
      "\u001b[0;31mNameError\u001b[0m: name 'n' is not defined"
     ]
    }
   ],
   "source": []
  },
  {
   "cell_type": "code",
   "execution_count": 143,
   "metadata": {},
   "outputs": [],
   "source": [
    "from functools import reduce\n",
    "\n",
    "def prime_factor(n):\n",
    "    '''素因数分解'''\n",
    "    original = n\n",
    "    res = []\n",
    "    for i in range(2, n):\n",
    "        if i * i > n:\n",
    "            logger.info(f\"look till {i}\")\n",
    "            break\n",
    "        while (n % i)== 0:\n",
    "            res.append(i)\n",
    "            n = int(n/i)\n",
    "            logger.info(f\"n: {n}\")\n",
    "    \n",
    "    if n != 1:\n",
    "        res.append(n)\n",
    "    assert reduce((lambda x, y: x*y), res) == original \n",
    "    return res\n",
    "            "
   ]
  },
  {
   "cell_type": "code",
   "execution_count": 144,
   "metadata": {},
   "outputs": [
    {
     "name": "stderr",
     "output_type": "stream",
     "text": [
      "INFO:root:n: 75\n",
      "INFO:root:n: 25\n",
      "INFO:root:n: 5\n",
      "INFO:root:n: 1\n",
      "INFO:root:look till 6\n"
     ]
    },
    {
     "data": {
      "text/plain": [
       "225"
      ]
     },
     "execution_count": 144,
     "metadata": {},
     "output_type": "execute_result"
    }
   ],
   "source": [
    "reduce((lambda x, y: x*y), prime_factor(225))"
   ]
  },
  {
   "cell_type": "code",
   "execution_count": 145,
   "metadata": {},
   "outputs": [
    {
     "name": "stderr",
     "output_type": "stream",
     "text": [
      "INFO:root:n: 75\n",
      "INFO:root:n: 25\n",
      "INFO:root:n: 5\n",
      "INFO:root:n: 1\n",
      "INFO:root:look till 6\n"
     ]
    },
    {
     "data": {
      "text/plain": [
       "[3, 3, 5, 5]"
      ]
     },
     "execution_count": 145,
     "metadata": {},
     "output_type": "execute_result"
    }
   ],
   "source": [
    "prime_factor(225)"
   ]
  },
  {
   "cell_type": "markdown",
   "metadata": {},
   "source": [
    "# エラトステネスの篩"
   ]
  },
  {
   "cell_type": "code",
   "execution_count": null,
   "metadata": {},
   "outputs": [],
   "source": []
  },
  {
   "cell_type": "code",
   "execution_count": 157,
   "metadata": {},
   "outputs": [],
   "source": [
    "def sieve(n):\n",
    "    ''' n 以下の素数を全て返す\n",
    "    '''\n",
    "    primes = []\n",
    "    is_prime = [True]*(n+1)\n",
    "    is_prime[0] = False\n",
    "    is_prime[1] = False\n",
    "\n",
    "    # 割る素数\n",
    "    for i in range(2, n+1):\n",
    "        if is_prime[i]:\n",
    "            primes.append(i)\n",
    "            # 倍数を false に\n",
    "            for j in range(2*i, n+1, i):\n",
    "                is_prime[j] = False\n",
    "    return primes"
   ]
  },
  {
   "cell_type": "code",
   "execution_count": 159,
   "metadata": {},
   "outputs": [
    {
     "data": {
      "text/plain": [
       "[2, 3, 5, 7, 11]"
      ]
     },
     "execution_count": 159,
     "metadata": {},
     "output_type": "execute_result"
    }
   ],
   "source": [
    "sieve(12)"
   ]
  },
  {
   "cell_type": "code",
   "execution_count": 161,
   "metadata": {},
   "outputs": [
    {
     "data": {
      "text/plain": [
       "78498"
      ]
     },
     "execution_count": 161,
     "metadata": {},
     "output_type": "execute_result"
    }
   ],
   "source": [
    "len(sieve(1000000))"
   ]
  },
  {
   "cell_type": "markdown",
   "metadata": {},
   "source": [
    "# 区間内の素数の数"
   ]
  },
  {
   "cell_type": "code",
   "execution_count": 168,
   "metadata": {},
   "outputs": [],
   "source": [
    "def diff_in_sieves(a, b):\n",
    "    ''' 区間[a, b) 内の素数の数\n",
    "    '''\n",
    "    prime_a = set(sieve(a-1))\n",
    "    prime_b = set(sieve(b-1))\n",
    "    return prime_b - prime_a"
   ]
  },
  {
   "cell_type": "code",
   "execution_count": 169,
   "metadata": {},
   "outputs": [
    {
     "data": {
      "text/plain": [
       "{23, 29, 31}"
      ]
     },
     "execution_count": 169,
     "metadata": {},
     "output_type": "execute_result"
    }
   ],
   "source": [
    "diff_in_sieves(22, 37)"
   ]
  },
  {
   "cell_type": "raw",
   "metadata": {},
   "source": [
    "len(diff_in_sieves(22801763489, 22801787297))"
   ]
  },
  {
   "cell_type": "code",
   "execution_count": 4,
   "metadata": {},
   "outputs": [],
   "source": [
    "import math"
   ]
  },
  {
   "cell_type": "code",
   "execution_count": 8,
   "metadata": {},
   "outputs": [],
   "source": [
    "a = 22\n",
    "b = 37\n",
    "\n",
    "def segment_sieve(a, b):\n",
    "    ''' [a, b) 内の素数を列挙\n",
    "    '''\n",
    "    max_b = int(math.sqrt(b))\n",
    "\n",
    "    # is_prime[i-a] = True -> i が素数\n",
    "    is_prime = [True]*(b-a)\n",
    "    is_prime_small = [True]*max_b\n",
    "\n",
    "    # is_prime_small 内をループ\n",
    "    for i in range(2, max_b):\n",
    "\n",
    "        # 素数のみ\n",
    "        if not is_prime_small[i]:\n",
    "            continue\n",
    "\n",
    "        # 倍数を除去\n",
    "        for j in range(2*i, max_b, i):\n",
    "            is_prime_small[j] = False\n",
    "\n",
    "        # [a, b) の篩\n",
    "        start_a = int((a+i-1)/i)*i\n",
    "        for j in range(start_a, b, i):\n",
    "            is_prime[j-a] = False\n",
    "    \n",
    "    return is_prime"
   ]
  },
  {
   "cell_type": "code",
   "execution_count": 10,
   "metadata": {},
   "outputs": [
    {
     "data": {
      "text/plain": [
       "3"
      ]
     },
     "execution_count": 10,
     "metadata": {},
     "output_type": "execute_result"
    }
   ],
   "source": [
    "sum(segment_sieve(22, 37))"
   ]
  },
  {
   "cell_type": "code",
   "execution_count": 11,
   "metadata": {},
   "outputs": [
    {
     "data": {
      "text/plain": [
       "1000"
      ]
     },
     "execution_count": 11,
     "metadata": {},
     "output_type": "execute_result"
    }
   ],
   "source": [
    "sum(segment_sieve(22801763489, 22801787297))"
   ]
  },
  {
   "cell_type": "code",
   "execution_count": 2,
   "metadata": {},
   "outputs": [
    {
     "data": {
      "text/plain": [
       "15"
      ]
     },
     "execution_count": 2,
     "metadata": {},
     "output_type": "execute_result"
    }
   ],
   "source": [
    "len(is_prime)"
   ]
  },
  {
   "cell_type": "code",
   "execution_count": 7,
   "metadata": {},
   "outputs": [
    {
     "data": {
      "text/plain": [
       "6"
      ]
     },
     "execution_count": 7,
     "metadata": {},
     "output_type": "execute_result"
    }
   ],
   "source": [
    "len(is_prime_small)"
   ]
  },
  {
   "cell_type": "markdown",
   "metadata": {},
   "source": [
    "# カーマイケル数"
   ]
  },
  {
   "cell_type": "code",
   "execution_count": 7,
   "metadata": {},
   "outputs": [],
   "source": [
    "import logging\n",
    "logging.basicConfig(level=logging.DEBUG)\n",
    "logger = logging.getLogger()"
   ]
  },
  {
   "cell_type": "code",
   "execution_count": 8,
   "metadata": {},
   "outputs": [],
   "source": [
    "n = 561\n",
    "# x の 561 乗を求めたい\n",
    "\n",
    "def carmichael(n):\n",
    "    ''' n がカーマイケル数かどうか\n",
    "    '''\n",
    "    # 素数なら False\n",
    "    if is_prime(n):\n",
    "        logger.info(f\"{n} is prime\")\n",
    "        return False\n",
    "    \n",
    "    for x in range(2, n):\n",
    "        if not mod_pow(x, n, n) == x:\n",
    "            logger.info(f\"{n} not carmichael number at {x}\")\n",
    "            return False\n",
    "    return True"
   ]
  },
  {
   "cell_type": "code",
   "execution_count": 9,
   "metadata": {},
   "outputs": [],
   "source": [
    "def mod_pow(x, n, mod):\n",
    "    ''' x を mod で n乗する\n",
    "    '''\n",
    "    res = 1\n",
    "    while(n > 0):\n",
    "        \n",
    "        # 最下位ビットが立っているときに x^(2^i)を掛ける\n",
    "        if n & 1:\n",
    "            res = res * x % mod \n",
    "        # x を順次2乗していく\n",
    "        x = x*x % mod\n",
    "        # n を1ビットずらす\n",
    "        n  = n >> 1\n",
    "    \n",
    "    return res"
   ]
  },
  {
   "cell_type": "code",
   "execution_count": 10,
   "metadata": {},
   "outputs": [
    {
     "name": "stderr",
     "output_type": "stream",
     "text": [
      "INFO:root:561 can be divided by 3\n"
     ]
    },
    {
     "data": {
      "text/plain": [
       "True"
      ]
     },
     "execution_count": 10,
     "metadata": {},
     "output_type": "execute_result"
    }
   ],
   "source": [
    "carmichael(561)"
   ]
  },
  {
   "cell_type": "code",
   "execution_count": 13,
   "metadata": {},
   "outputs": [
    {
     "name": "stderr",
     "output_type": "stream",
     "text": [
      "INFO:root:Looked up to 5 for 19\n",
      "INFO:root:19 is prime\n"
     ]
    },
    {
     "data": {
      "text/plain": [
       "False"
      ]
     },
     "execution_count": 13,
     "metadata": {},
     "output_type": "execute_result"
    }
   ],
   "source": [
    "carmichael(19)"
   ]
  },
  {
   "cell_type": "code",
   "execution_count": 14,
   "metadata": {},
   "outputs": [
    {
     "name": "stderr",
     "output_type": "stream",
     "text": [
      "INFO:root:18 can be divided by 2\n",
      "INFO:root:18 not carmichael number at 2\n"
     ]
    },
    {
     "data": {
      "text/plain": [
       "False"
      ]
     },
     "execution_count": 14,
     "metadata": {},
     "output_type": "execute_result"
    }
   ],
   "source": [
    "carmichael(18)"
   ]
  },
  {
   "cell_type": "code",
   "execution_count": 15,
   "metadata": {},
   "outputs": [
    {
     "data": {
      "text/plain": [
       "2"
      ]
     },
     "execution_count": 15,
     "metadata": {},
     "output_type": "execute_result"
    }
   ],
   "source": [
    "2^18 % 18"
   ]
  },
  {
   "cell_type": "code",
   "execution_count": 16,
   "metadata": {},
   "outputs": [],
   "source": [
    "def mod_pow_2(x, n, mod):\n",
    "    ''' x を mod で n乗する\n",
    "    2 で割って再帰的に\n",
    "    偶数のとき\n",
    "    x^n == (x^2)^(n/2)\n",
    "    奇数の時\n",
    "    x^n == (x^2)^int(n/2)*x\n",
    "    '''\n",
    "    if n == 0:\n",
    "        return 1\n",
    "    res = mod_pow_2(x*x%mod, int(n/2), mod)\n",
    "    if n&1:\n",
    "        res = res * x % mod\n",
    "    return res"
   ]
  },
  {
   "cell_type": "code",
   "execution_count": 18,
   "metadata": {},
   "outputs": [
    {
     "data": {
      "text/plain": [
       "True"
      ]
     },
     "execution_count": 18,
     "metadata": {},
     "output_type": "execute_result"
    }
   ],
   "source": [
    "mod_pow_2(2, 5, 7)== mod_pow(2, 5, 7)"
   ]
  },
  {
   "cell_type": "code",
   "execution_count": null,
   "metadata": {},
   "outputs": [],
   "source": []
  }
 ],
 "metadata": {
  "kernelspec": {
   "display_name": "Python 3",
   "language": "python",
   "name": "python3"
  },
  "language_info": {
   "codemirror_mode": {
    "name": "ipython",
    "version": 3
   },
   "file_extension": ".py",
   "mimetype": "text/x-python",
   "name": "python",
   "nbconvert_exporter": "python",
   "pygments_lexer": "ipython3",
   "version": "3.7.0"
  }
 },
 "nbformat": 4,
 "nbformat_minor": 4
}
