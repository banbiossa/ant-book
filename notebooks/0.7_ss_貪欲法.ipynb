{
 "cells": [
  {
   "cell_type": "markdown",
   "metadata": {},
   "source": [
    "# 0.7_ss_貪欲法"
   ]
  },
  {
   "cell_type": "markdown",
   "metadata": {},
   "source": [
    "## Coins"
   ]
  },
  {
   "cell_type": "code",
   "execution_count": 7,
   "metadata": {},
   "outputs": [],
   "source": [
    "num_coins = [3, 2, 1, 3, 0, 2]\n",
    "A = 620\n",
    "value_coins = [1, 5, 10, 50, 100, 500]\n",
    "n = 6\n",
    "\n",
    "ans = {}\n",
    "for i in range(n-1, -1, -1):\n",
    "    t = int(min(A/value_coins[i], num_coins[i]))\n",
    "    A -=  t * value_coins[i]\n",
    "    ans[f\"{value_coins[i]}\"] = t"
   ]
  },
  {
   "cell_type": "code",
   "execution_count": 11,
   "metadata": {},
   "outputs": [
    {
     "name": "stdout",
     "output_type": "stream",
     "text": [
      "is zero? 0 how {'500': 1, '100': 0, '50': 2, '10': 1, '5': 2, '1': 0}\n"
     ]
    }
   ],
   "source": [
    "print(\"is zero?\", A, \"how\", ans)"
   ]
  },
  {
   "cell_type": "markdown",
   "metadata": {},
   "source": [
    "## スケジューリグ"
   ]
  },
  {
   "cell_type": "code",
   "execution_count": 12,
   "metadata": {},
   "outputs": [],
   "source": [
    "n = 5\n",
    "s = [1,2,4,6,8]\n",
    "t = [3,5,7,9,10]"
   ]
  },
  {
   "cell_type": "code",
   "execution_count": 27,
   "metadata": {},
   "outputs": [
    {
     "data": {
      "text/plain": [
       "[(1, 3), (2, 5), (4, 7), (6, 9), (8, 10)]"
      ]
     },
     "execution_count": 27,
     "metadata": {},
     "output_type": "execute_result"
    }
   ],
   "source": [
    "st = list(zip(s, t))\n",
    "st.sort(key=lambda x: x[1])\n",
    "st"
   ]
  },
  {
   "cell_type": "code",
   "execution_count": 28,
   "metadata": {},
   "outputs": [],
   "source": [
    "ans = 0\n",
    "time = 0\n",
    "for s,t in st:\n",
    "    if time < s:\n",
    "        ans += 1\n",
    "        time = t"
   ]
  },
  {
   "cell_type": "code",
   "execution_count": 29,
   "metadata": {},
   "outputs": [
    {
     "data": {
      "text/plain": [
       "3"
      ]
     },
     "execution_count": 29,
     "metadata": {},
     "output_type": "execute_result"
    }
   ],
   "source": [
    "ans"
   ]
  },
  {
   "cell_type": "code",
   "execution_count": 30,
   "metadata": {},
   "outputs": [
    {
     "data": {
      "text/plain": [
       "10"
      ]
     },
     "execution_count": 30,
     "metadata": {},
     "output_type": "execute_result"
    }
   ],
   "source": [
    "time"
   ]
  },
  {
   "cell_type": "code",
   "execution_count": null,
   "metadata": {},
   "outputs": [],
   "source": []
  },
  {
   "cell_type": "markdown",
   "metadata": {},
   "source": [
    "# 辞書順"
   ]
  },
  {
   "cell_type": "code",
   "execution_count": 33,
   "metadata": {},
   "outputs": [
    {
     "name": "stdout",
     "output_type": "stream",
     "text": [
      "ABCBCD\n"
     ]
    }
   ],
   "source": [
    "N = 6\n",
    "S = \"ACDBCB\"\n",
    "\n",
    "a = 0\n",
    "b = N-1\n",
    "\n",
    "ans = \"\" \n",
    "while (a <= b):\n",
    "    left = False\n",
    "    for i in range(b-a):\n",
    "        if S[a+i] < S[b-i]:\n",
    "            left = True\n",
    "            break\n",
    "        if S[a+i] > S[b-i]:\n",
    "            left = False\n",
    "            break\n",
    "    \n",
    "    if left:\n",
    "        ans += S[a]\n",
    "        a += 1\n",
    "    else:\n",
    "        ans += S[b]\n",
    "        b -= 1\n",
    "        \n",
    "print(ans)"
   ]
  },
  {
   "cell_type": "markdown",
   "metadata": {},
   "source": [
    "# Saruman's Army"
   ]
  },
  {
   "cell_type": "code",
   "execution_count": 34,
   "metadata": {},
   "outputs": [],
   "source": [
    "N = 6\n",
    "R = 10\n",
    "X = [1, 7, 15, 20, 30, 50]"
   ]
  },
  {
   "cell_type": "code",
   "execution_count": 41,
   "metadata": {},
   "outputs": [
    {
     "data": {
      "text/plain": [
       "[1, 7, 15, 20, 30, 50]"
      ]
     },
     "execution_count": 41,
     "metadata": {},
     "output_type": "execute_result"
    }
   ],
   "source": [
    "X.sort()\n",
    "X"
   ]
  },
  {
   "cell_type": "code",
   "execution_count": 42,
   "metadata": {},
   "outputs": [
    {
     "data": {
      "text/plain": [
       "3"
      ]
     },
     "execution_count": 42,
     "metadata": {},
     "output_type": "execute_result"
    }
   ],
   "source": [
    "i = 0\n",
    "ans = 0\n",
    "\n",
    "while i < N:\n",
    "    s = X[i]\n",
    "    i += 1\n",
    "    while (i < N) and (X[i] <= s + R):\n",
    "        i += 1\n",
    "    \n",
    "    p = X[i-1]\n",
    "    while (i < N) and (X[i] <= p + R):\n",
    "        i += 1\n",
    "    ans += 1\n",
    "ans "
   ]
  },
  {
   "cell_type": "markdown",
   "metadata": {},
   "source": [
    "# 板を切る"
   ]
  },
  {
   "cell_type": "code",
   "execution_count": 45,
   "metadata": {},
   "outputs": [
    {
     "data": {
      "text/plain": [
       "34"
      ]
     },
     "execution_count": 45,
     "metadata": {},
     "output_type": "execute_result"
    }
   ],
   "source": [
    "N = 3\n",
    "L = [8, 5, 8]\n",
    "\n",
    "ans = 0\n",
    "while (N > 1):\n",
    "    mii1 = 0\n",
    "    mii2 = 1\n",
    "    if L[mii1] > L[mii2]:\n",
    "        mii1, mii2 = mii2, mii1\n",
    "    \n",
    "    for i in range(2, N):\n",
    "        if L[i] < L[mii1]:\n",
    "            mii2 = mii1\n",
    "            mii1 = i\n",
    "        elif L[i] < L[mii2]:\n",
    "            mii2 = i\n",
    "    \n",
    "    t = L[mii1] + L[mii2]\n",
    "    ans += t\n",
    "    \n",
    "    if mii1 == N-1:\n",
    "        mii1, mii2 = mii2, mii1\n",
    "    L[mii1] = t\n",
    "    L[mii2] = L[N-1]\n",
    "    N -= 1\n",
    "ans"
   ]
  },
  {
   "cell_type": "code",
   "execution_count": 46,
   "metadata": {},
   "outputs": [],
   "source": [
    "N = 3\n",
    "L = [8, 5, 8]\n",
    "L.sort()"
   ]
  },
  {
   "cell_type": "code",
   "execution_count": 47,
   "metadata": {},
   "outputs": [
    {
     "data": {
      "text/plain": [
       "[5, 8, 8]"
      ]
     },
     "execution_count": 47,
     "metadata": {},
     "output_type": "execute_result"
    }
   ],
   "source": [
    "L"
   ]
  },
  {
   "cell_type": "code",
   "execution_count": null,
   "metadata": {},
   "outputs": [],
   "source": []
  }
 ],
 "metadata": {
  "kernelspec": {
   "display_name": "Python 3",
   "language": "python",
   "name": "python3"
  },
  "language_info": {
   "codemirror_mode": {
    "name": "ipython",
    "version": 3
   },
   "file_extension": ".py",
   "mimetype": "text/x-python",
   "name": "python",
   "nbconvert_exporter": "python",
   "pygments_lexer": "ipython3",
   "version": "3.7.0"
  }
 },
 "nbformat": 4,
 "nbformat_minor": 4
}
