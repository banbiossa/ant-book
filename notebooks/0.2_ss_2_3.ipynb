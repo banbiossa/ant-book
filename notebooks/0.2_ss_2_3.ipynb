{
 "cells": [
  {
   "cell_type": "markdown",
   "metadata": {},
   "source": [
    "# 0.2_ss_2.3_DP\n",
    "- 動的計画法の写経"
   ]
  },
  {
   "cell_type": "code",
   "execution_count": 1,
   "metadata": {},
   "outputs": [],
   "source": [
    "import numpy as np\n",
    "import pandas as pd\n",
    "import itertools\n",
    "import logging\n",
    "\n",
    "logging.basicConfig(level=logging.DEBUG)\n",
    "logger = logging.getLogger()"
   ]
  },
  {
   "cell_type": "markdown",
   "metadata": {},
   "source": [
    "## Napzack"
   ]
  },
  {
   "cell_type": "markdown",
   "metadata": {},
   "source": [
    "### 全探索"
   ]
  },
  {
   "cell_type": "code",
   "execution_count": 2,
   "metadata": {},
   "outputs": [],
   "source": [
    "# クラスの変数かな\n",
    "n = 4\n",
    "w = [2,1,3,2]\n",
    "v = [3,2,4,2]\n",
    "W = 5"
   ]
  },
  {
   "cell_type": "code",
   "execution_count": 3,
   "metadata": {},
   "outputs": [],
   "source": [
    "def rec(i, j):\n",
    "    ''' i 番目以降の品物から、重さがj以下となるように選ぶ\n",
    "    '''\n",
    "    # もう品物がない\n",
    "    if i == n:\n",
    "        return 0\n",
    "    \n",
    "    # 品物が入らない\n",
    "    if j < w[i]:\n",
    "        return rec(i+1, j)\n",
    "    \n",
    "    # 入る場合と入らない場合を返す\n",
    "    return max(rec(i+1, j), rec(i+1, j-w[i]) + v[i])"
   ]
  },
  {
   "cell_type": "code",
   "execution_count": 4,
   "metadata": {},
   "outputs": [
    {
     "data": {
      "text/plain": [
       "7"
      ]
     },
     "execution_count": 4,
     "metadata": {},
     "output_type": "execute_result"
    }
   ],
   "source": [
    "rec(0, W)"
   ]
  },
  {
   "cell_type": "markdown",
   "metadata": {},
   "source": [
    "### DP(Memo)"
   ]
  },
  {
   "cell_type": "code",
   "execution_count": 5,
   "metadata": {},
   "outputs": [],
   "source": [
    "dp = -np.ones((n+1, W+1))"
   ]
  },
  {
   "cell_type": "code",
   "execution_count": 6,
   "metadata": {},
   "outputs": [
    {
     "data": {
      "text/plain": [
       "array([[-1., -1., -1., -1., -1., -1.],\n",
       "       [-1., -1., -1., -1., -1., -1.],\n",
       "       [-1., -1., -1., -1., -1., -1.],\n",
       "       [-1., -1., -1., -1., -1., -1.],\n",
       "       [-1., -1., -1., -1., -1., -1.]])"
      ]
     },
     "execution_count": 6,
     "metadata": {},
     "output_type": "execute_result"
    }
   ],
   "source": [
    "dp"
   ]
  },
  {
   "cell_type": "code",
   "execution_count": 16,
   "metadata": {},
   "outputs": [],
   "source": [
    "def rec(i, j):\n",
    "    \n",
    "    # 値が保存されている場合\n",
    "    if dp[i][j] >= 0:\n",
    "        logger.debug(f\"Use saved for i: {i}, j: {j}\")\n",
    "        return dp[i][j]\n",
    "    \n",
    "    # ない\n",
    "    if i == n:\n",
    "        dp[i][j] = 0\n",
    "        return dp[i][j]\n",
    "\n",
    "    # 入らない\n",
    "    if j < w[i]:\n",
    "        dp[i][j] = rec(i+1, j)\n",
    "        return dp[i][j]\n",
    "\n",
    "    dp[i][j] = max(rec(i+1, j), rec(i+1, j-w[i])+v[i]) \n",
    "    return dp[i][j]"
   ]
  },
  {
   "cell_type": "code",
   "execution_count": 17,
   "metadata": {},
   "outputs": [
    {
     "name": "stderr",
     "output_type": "stream",
     "text": [
      "DEBUG:root:Use saved for i: 2, j: 5\n",
      "DEBUG:root:Use saved for i: 3, j: 4\n",
      "DEBUG:root:Use saved for i: 4, j: 1\n",
      "DEBUG:root:Use saved for i: 4, j: 3\n",
      "DEBUG:root:Use saved for i: 4, j: 1\n",
      "DEBUG:root:Use saved for i: 4, j: 0\n",
      "DEBUG:root:Use saved for i: 3, j: 2\n"
     ]
    },
    {
     "data": {
      "text/plain": [
       "7.0"
      ]
     },
     "execution_count": 17,
     "metadata": {},
     "output_type": "execute_result"
    }
   ],
   "source": [
    "rec(0, W)"
   ]
  },
  {
   "cell_type": "code",
   "execution_count": 18,
   "metadata": {},
   "outputs": [
    {
     "data": {
      "text/plain": [
       "array([[-1., -1., -1., -1., -1.,  7.],\n",
       "       [-1., -1., -1.,  4., -1.,  6.],\n",
       "       [-1., -1.,  2.,  4.,  4.,  6.],\n",
       "       [ 0.,  0.,  2.,  2.,  2.,  2.],\n",
       "       [ 0.,  0.,  0.,  0.,  0.,  0.]])"
      ]
     },
     "execution_count": 18,
     "metadata": {},
     "output_type": "execute_result"
    }
   ],
   "source": [
    "dp"
   ]
  },
  {
   "cell_type": "markdown",
   "metadata": {},
   "source": [
    "### DP as a table\n",
    "- 以下を解いているだけ\n",
    "\n",
    "```\n",
    "dp[n][j] = 0\n",
    "dp[i][j] = \n",
    "    if j < w[j]: \n",
    "        dp[i+1][j]\n",
    "    else:\n",
    "        max(dp(i+1, j), dp[i+1, j-w[i]] + v[j])\n",
    "```"
   ]
  },
  {
   "cell_type": "code",
   "execution_count": 38,
   "metadata": {},
   "outputs": [
    {
     "name": "stdout",
     "output_type": "stream",
     "text": [
      "7.0\n"
     ]
    }
   ],
   "source": [
    "dp = np.zeros((n+1, W+1))\n",
    "\n",
    "for i in range(n-1, -1, -1):\n",
    "    for j in range(W+1):\n",
    "        if j < w[i]:\n",
    "            dp[i][j] = dp[i+1][j]\n",
    "        else:\n",
    "            dp[i][j] = max(dp[i+1][j], dp[i+1][j-w[i]]+v[i])\n",
    "            \n",
    "print(dp[0][W])"
   ]
  },
  {
   "cell_type": "markdown",
   "metadata": {},
   "source": [
    "### Dp loop forward"
   ]
  },
  {
   "cell_type": "code",
   "execution_count": 39,
   "metadata": {},
   "outputs": [],
   "source": [
    "dp = np.zeros((n+1, W+1))\n",
    "for i in range(n):\n",
    "    for j in range(W+1):\n",
    "        if j < w[i]:\n",
    "            dp[i+1][j] = dp[i][j]\n",
    "        else:\n",
    "            dp[i+1][j] = max(dp[i][j], dp[i][j - w[i]] + v[i])"
   ]
  },
  {
   "cell_type": "code",
   "execution_count": 40,
   "metadata": {},
   "outputs": [
    {
     "data": {
      "text/plain": [
       "array([[0., 0., 0., 0., 0., 0.],\n",
       "       [0., 0., 3., 3., 3., 3.],\n",
       "       [0., 2., 3., 5., 5., 5.],\n",
       "       [0., 2., 3., 5., 6., 7.],\n",
       "       [0., 2., 3., 5., 6., 7.]])"
      ]
     },
     "execution_count": 40,
     "metadata": {},
     "output_type": "execute_result"
    }
   ],
   "source": [
    "dp"
   ]
  },
  {
   "cell_type": "code",
   "execution_count": 44,
   "metadata": {},
   "outputs": [
    {
     "name": "stdout",
     "output_type": "stream",
     "text": [
      "7.0\n"
     ]
    }
   ],
   "source": [
    "dp = np.zeros((n+1, W+1))\n",
    "for i in range(n):\n",
    "    for j in range(W+1):\n",
    "        dp[i+1][j] = max(dp[i+1][j], dp[i][j])\n",
    "        if j + w[i] <= W:\n",
    "            dp[i+1][j+w[i]] = max(dp[i+1][j+w[i]], dp[i][j] + v[i])\n",
    "            \n",
    "print(dp[n][W])"
   ]
  },
  {
   "cell_type": "code",
   "execution_count": 45,
   "metadata": {},
   "outputs": [
    {
     "data": {
      "text/plain": [
       "array([[0., 0., 0., 0., 0., 0.],\n",
       "       [0., 0., 3., 3., 3., 3.],\n",
       "       [0., 2., 3., 5., 5., 5.],\n",
       "       [0., 2., 3., 5., 6., 7.],\n",
       "       [0., 2., 3., 5., 6., 7.]])"
      ]
     },
     "execution_count": 45,
     "metadata": {},
     "output_type": "execute_result"
    }
   ],
   "source": [
    "dp"
   ]
  },
  {
   "cell_type": "code",
   "execution_count": null,
   "metadata": {},
   "outputs": [],
   "source": []
  }
 ],
 "metadata": {
  "kernelspec": {
   "display_name": "Python 3",
   "language": "python",
   "name": "python3"
  },
  "language_info": {
   "codemirror_mode": {
    "name": "ipython",
    "version": 3
   },
   "file_extension": ".py",
   "mimetype": "text/x-python",
   "name": "python",
   "nbconvert_exporter": "python",
   "pygments_lexer": "ipython3",
   "version": "3.7.0"
  }
 },
 "nbformat": 4,
 "nbformat_minor": 4
}
