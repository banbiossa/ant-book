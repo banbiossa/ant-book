{
 "cells": [
  {
   "cell_type": "markdown",
   "metadata": {},
   "source": [
    "# グラフ構造"
   ]
  },
  {
   "cell_type": "code",
   "execution_count": 1,
   "metadata": {},
   "outputs": [
    {
     "data": {
      "text/plain": [
       "[(0, [1]), (1, [3]), (2, [1]), (3, [0, 2]), (4, [3])]"
      ]
     },
     "execution_count": 1,
     "metadata": {},
     "output_type": "execute_result"
    }
   ],
   "source": [
    "[(0, [1]), (1,[3]), (2,[1]), (3, [0, 2]), (4, [3])]"
   ]
  },
  {
   "cell_type": "code",
   "execution_count": 3,
   "metadata": {},
   "outputs": [],
   "source": [
    "import numpy as np"
   ]
  },
  {
   "cell_type": "code",
   "execution_count": 25,
   "metadata": {},
   "outputs": [],
   "source": [
    "V = 3\n",
    "\n",
    "G = np.array([\n",
    "    [0, 1, 1,],\n",
    "    [1, 0, 1,],\n",
    "    [1, 1, 0,],\n",
    "])\n",
    "\n",
    "color = np.ones(V) * np.inf\n",
    "\n",
    "def dfs(v, c) -> bool:\n",
    "    '''\n",
    "    '''\n",
    "    color[v] = c\n",
    "    for i in range(G[v].size):\n",
    "        # 隣接する頂点が同じ色\n",
    "        if color[G[v][i] == c]:\n",
    "            return False\n",
    "        # -c で塗る\n",
    "        if (color[G[v][i]] == 0) & (not dfs(G[v][i], -c)):\n",
    "            return False\n",
    "    \n",
    "    return True\n",
    "\n",
    "def solve():\n",
    "    for i in range(V):\n",
    "        if color[i] == 0:\n",
    "            if not dfs(i, 1):\n",
    "                print(\"no\")\n",
    "                return\n",
    "    \n",
    "    print(\"yes\")"
   ]
  },
  {
   "cell_type": "code",
   "execution_count": 26,
   "metadata": {},
   "outputs": [
    {
     "name": "stdout",
     "output_type": "stream",
     "text": [
      "yes\n"
     ]
    }
   ],
   "source": [
    "solve()"
   ]
  },
  {
   "cell_type": "code",
   "execution_count": null,
   "metadata": {},
   "outputs": [],
   "source": []
  },
  {
   "cell_type": "code",
   "execution_count": null,
   "metadata": {},
   "outputs": [],
   "source": []
  },
  {
   "cell_type": "code",
   "execution_count": null,
   "metadata": {},
   "outputs": [],
   "source": []
  }
 ],
 "metadata": {
  "kernelspec": {
   "display_name": "Python 3",
   "language": "python",
   "name": "python3"
  },
  "language_info": {
   "codemirror_mode": {
    "name": "ipython",
    "version": 3
   },
   "file_extension": ".py",
   "mimetype": "text/x-python",
   "name": "python",
   "nbconvert_exporter": "python",
   "pygments_lexer": "ipython3",
   "version": "3.7.0"
  }
 },
 "nbformat": 4,
 "nbformat_minor": 4
}
