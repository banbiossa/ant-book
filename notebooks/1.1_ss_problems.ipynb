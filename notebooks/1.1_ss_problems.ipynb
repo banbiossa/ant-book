{
 "cells": [
  {
   "cell_type": "markdown",
   "metadata": {},
   "source": [
    "# 2.7_GCD問題への挑戦"
   ]
  },
  {
   "cell_type": "code",
   "execution_count": null,
   "metadata": {},
   "outputs": [],
   "source": [
    "3\n",
    "1 3 5\n",
    "-2 4 1"
   ]
  },
  {
   "cell_type": "code",
   "execution_count": null,
   "metadata": {},
   "outputs": [],
   "source": [
    "5\n",
    "1 2 3 4 5 \n",
    "1 0 1 0 1"
   ]
  },
  {
   "cell_type": "code",
   "execution_count": 1,
   "metadata": {},
   "outputs": [],
   "source": [
    "n = 3\n",
    "x = [1, 3, 5]\n",
    "y = [-2, 4, 1]"
   ]
  },
  {
   "cell_type": "code",
   "execution_count": 29,
   "metadata": {},
   "outputs": [],
   "source": [
    "n = 5\n",
    "x = [1, 2, 3, 4, 5]\n",
    "y = [1, 0, 1, 0, 1]"
   ]
  },
  {
   "cell_type": "code",
   "execution_count": 15,
   "metadata": {},
   "outputs": [],
   "source": [
    "def min_inner_product_smart(n, x, y):\n",
    "    x.sort()\n",
    "    y.sort(reverse=True)\n",
    "    return sum([x[i]*y[i] for i in range(n)])\n",
    "    "
   ]
  },
  {
   "cell_type": "code",
   "execution_count": 30,
   "metadata": {},
   "outputs": [
    {
     "data": {
      "text/plain": [
       "6"
      ]
     },
     "execution_count": 30,
     "metadata": {},
     "output_type": "execute_result"
    }
   ],
   "source": [
    "min_inner_product_smart(n, x, y)"
   ]
  },
  {
   "cell_type": "code",
   "execution_count": 23,
   "metadata": {},
   "outputs": [],
   "source": [
    "import itertools\n",
    "import numpy as np\n",
    "import logging\n",
    "\n",
    "logging.basicConfig(level=logging.DEBUG)\n",
    "logger = logging.getLogger()"
   ]
  },
  {
   "cell_type": "code",
   "execution_count": 40,
   "metadata": {},
   "outputs": [],
   "source": [
    "def min_inner_product_brute_force(n, x, y):\n",
    "    best = np.inf\n",
    "    best_index = None\n",
    "    for index in itertools.permutations(range(n), n):\n",
    "        tmp = sum([x[i] * y[index[i]] for i in range(n)])\n",
    "        if tmp < best:\n",
    "            best = tmp\n",
    "            best_index = index\n",
    "        tmp = min(tmp, best)\n",
    "    return best, [y[i] for i in best_index] "
   ]
  },
  {
   "cell_type": "code",
   "execution_count": 41,
   "metadata": {},
   "outputs": [
    {
     "data": {
      "text/plain": [
       "(6, [1, 1, 1, 0, 0])"
      ]
     },
     "execution_count": 41,
     "metadata": {},
     "output_type": "execute_result"
    }
   ],
   "source": [
    "min_inner_product_brute_force(n, x, y)"
   ]
  },
  {
   "cell_type": "markdown",
   "metadata": {},
   "source": [
    "# Problem 2"
   ]
  },
  {
   "cell_type": "code",
   "execution_count": 103,
   "metadata": {},
   "outputs": [],
   "source": [
    "N = 3\n",
    "arr = np.array([\n",
    "    [0, 0, 1],\n",
    "    [1, 0, 0],\n",
    "    [0, 1, 0],\n",
    "])"
   ]
  },
  {
   "cell_type": "code",
   "execution_count": 43,
   "metadata": {},
   "outputs": [
    {
     "data": {
      "text/plain": [
       "array([[0, 0, 1],\n",
       "       [1, 0, 0],\n",
       "       [0, 1, 0]])"
      ]
     },
     "execution_count": 43,
     "metadata": {},
     "output_type": "execute_result"
    }
   ],
   "source": [
    "arr"
   ]
  },
  {
   "cell_type": "markdown",
   "metadata": {},
   "source": [
    "## 方針\n",
    "- 各行を入れ替えるのみ\n",
    "- 各行について、0でない index の最大値をスコアとする\n",
    "- スコアの小さい順に並べる(入れ替え)\n",
    "- 並べ替えの回数をカウントする"
   ]
  },
  {
   "cell_type": "code",
   "execution_count": 73,
   "metadata": {},
   "outputs": [],
   "source": [
    "def score(row):\n",
    "    ''' 0 でない index の最大値\n",
    "    '''\n",
    "    row = (row != 0).tolist()\n",
    "    # index を取るために、ひっくり返して、最初のを取る\n",
    "    row.reverse()\n",
    "    index = row.index(1)\n",
    "    return len(row)-index-1\n",
    "    "
   ]
  },
  {
   "cell_type": "code",
   "execution_count": 102,
   "metadata": {},
   "outputs": [],
   "source": [
    "def shuffle_wide(scores):\n",
    "    ''' 隣接しない行も入れ替える\n",
    "    '''\n",
    "    # 動かす\n",
    "    N = len(scores)\n",
    "    shuffle = 0\n",
    "    for i in range(N):\n",
    "        i_index = scores.index(min(scores[i:]))\n",
    "        if i_index == i:\n",
    "            continue\n",
    "        if i_index > i:\n",
    "            RuntimeError(\"Can't make lower triangle.\")\n",
    "        # shuffle\n",
    "        scores[i], scores[i_index] = scores[i_index], scores[i]\n",
    "        shuffle += 1\n",
    "    return shuffle, scores"
   ]
  },
  {
   "cell_type": "code",
   "execution_count": 104,
   "metadata": {},
   "outputs": [],
   "source": [
    "# shuffle_neighbor\n",
    "N = len(scores)\n",
    "scores = []\n",
    "for row in arr:\n",
    "    scores.append(score(row))\n"
   ]
  },
  {
   "cell_type": "code",
   "execution_count": 111,
   "metadata": {},
   "outputs": [],
   "source": [
    "def shuffle_neighbor(scores):\n",
    "    N = len(scores)\n",
    "    shuffle = 0\n",
    "    for i in range(N):\n",
    "        i_index = scores.index(min(scores[i:]))\n",
    "\n",
    "        # 1行ずつ入れ替える\n",
    "        for j in range(i_index, i, -1):\n",
    "            scores[j], scores[j-1] = scores[j-1], scores[j]\n",
    "            shuffle += 1\n",
    "    return shuffle, scores"
   ]
  },
  {
   "cell_type": "code",
   "execution_count": 117,
   "metadata": {},
   "outputs": [
    {
     "data": {
      "text/plain": [
       "(2, [0, 1, 2])"
      ]
     },
     "execution_count": 117,
     "metadata": {},
     "output_type": "execute_result"
    }
   ],
   "source": [
    "N = 3\n",
    "arr = np.array([\n",
    "    [0, 0, 1],\n",
    "    [1, 0, 0],\n",
    "    [0, 1, 0],\n",
    "])\n",
    "calc_shuffle(arr)"
   ]
  },
  {
   "cell_type": "code",
   "execution_count": null,
   "metadata": {},
   "outputs": [],
   "source": []
  },
  {
   "cell_type": "raw",
   "metadata": {},
   "source": [
    "N = len(scores)\n",
    "shuffle = 0\n",
    "for i in range(N):\n",
    "    i_index = scores.index(min(scores))\n",
    "    if i_index == i:\n",
    "        continue\n",
    "    if i_index > i:\n",
    "        RuntimeError(\"Can't make lower triangle.\")\n",
    "    # shuffle\n",
    "    scores[i], scores[i_index] = scores[i_index], scores[i]\n",
    "    shuffle += 1"
   ]
  },
  {
   "cell_type": "code",
   "execution_count": 97,
   "metadata": {},
   "outputs": [
    {
     "data": {
      "text/plain": [
       "[0, 1, 2]"
      ]
     },
     "execution_count": 97,
     "metadata": {},
     "output_type": "execute_result"
    }
   ],
   "source": [
    "scores"
   ]
  },
  {
   "cell_type": "code",
   "execution_count": 119,
   "metadata": {},
   "outputs": [],
   "source": [
    "# スコア計算\n",
    "def calc_scores(arr):\n",
    "    scores = []\n",
    "    for row in arr:\n",
    "        scores.append(score(row))\n",
    "    return scores\n"
   ]
  },
  {
   "cell_type": "code",
   "execution_count": 124,
   "metadata": {},
   "outputs": [
    {
     "data": {
      "text/plain": [
       "(4, [0, 1, 2, 1])"
      ]
     },
     "execution_count": 124,
     "metadata": {},
     "output_type": "execute_result"
    }
   ],
   "source": [
    "N = 4\n",
    "arr = np.array([\n",
    "    [1,1,1,0,],\n",
    "    [1,1,0,0,],\n",
    "    [1,1,0,0,],\n",
    "    [1,0,0,0,],\n",
    "])\n",
    "scores = calc_scores(arr)\n",
    "shuffle_neighbor(scores)"
   ]
  },
  {
   "cell_type": "code",
   "execution_count": 123,
   "metadata": {},
   "outputs": [
    {
     "data": {
      "text/plain": [
       "[2, 1, 1, 0]"
      ]
     },
     "execution_count": 123,
     "metadata": {},
     "output_type": "execute_result"
    }
   ],
   "source": [
    "scores"
   ]
  },
  {
   "cell_type": "markdown",
   "metadata": {},
   "source": [
    "# 囚人の問題\n",
    "- 証明はできないが、中間で割るのが正しい気がする\n",
    "\n",
    "- 割る板の数を決める len(N) - a_n - 1, a_n - a_n-1 -1, ..., a_0 - 0 - 1,\n",
    "- 隣合う板の中で、足すと最も小さいものを取り出し、足して、元に代入する. 足したものは保存.\n",
    "- 長さが1になったら終わり\n",
    "- heapq の問題に近い"
   ]
  },
  {
   "cell_type": "code",
   "execution_count": 67,
   "metadata": {},
   "outputs": [],
   "source": [
    "import logging\n",
    "logging.basicConfig(level=logging.DEBUG)\n",
    "logger = logging.getLogger()\n",
    "\n",
    "from typing import List "
   ]
  },
  {
   "cell_type": "code",
   "execution_count": 61,
   "metadata": {},
   "outputs": [],
   "source": [
    "P = 20\n",
    "Q = 3\n",
    "A = [3, 6, 14]"
   ]
  },
  {
   "cell_type": "code",
   "execution_count": 62,
   "metadata": {},
   "outputs": [],
   "source": [
    "# 計\n",
    "total = 0\n",
    "\n",
    "# 端を入れる\n",
    "A = [0] + A + [P+1]\n",
    "\n",
    "# 割る長さを決める\n",
    "lengths = [A[i+1]-A[i]-1 for i in range(Q+1)]"
   ]
  },
  {
   "cell_type": "code",
   "execution_count": 63,
   "metadata": {},
   "outputs": [
    {
     "data": {
      "text/plain": [
       "[2, 2, 7, 6]"
      ]
     },
     "execution_count": 63,
     "metadata": {},
     "output_type": "execute_result"
    }
   ],
   "source": [
    "lengths"
   ]
  },
  {
   "cell_type": "code",
   "execution_count": 64,
   "metadata": {},
   "outputs": [
    {
     "name": "stderr",
     "output_type": "stream",
     "text": [
      "DEBUG:root:Lengths: [5, 7, 6]\n",
      "DEBUG:root:Lengths: [13, 6]\n",
      "DEBUG:root:Lengths: [20]\n"
     ]
    },
    {
     "data": {
      "text/plain": [
       "35"
      ]
     },
     "execution_count": 64,
     "metadata": {},
     "output_type": "execute_result"
    }
   ],
   "source": [
    "while(len(lengths) > 1):\n",
    "    # 隣あう板の中で、最も小さいものを取り出し、足して、元に入れる\n",
    "    sum_values = [lengths[i]+lengths[i+1] for i in range(len(lengths)-1)]\n",
    "    min_index = sum_values.index(min(sum_values))\n",
    "    tmp = lengths.pop(min_index)\n",
    "    \n",
    "    # 切る長さには自分を含めない\n",
    "    total += lengths[min_index] + tmp\n",
    "    \n",
    "    # 元の長さには自分を含める\n",
    "    lengths[min_index] = tmp + lengths[min_index] + 1\n",
    "    logger.debug(f\"Lengths: {lengths}\")\n",
    "\n",
    "lengths\n",
    "total"
   ]
  },
  {
   "cell_type": "code",
   "execution_count": 68,
   "metadata": {},
   "outputs": [],
   "source": [
    "def prisoners(P, Q, A: List):\n",
    "    # 計\n",
    "    total = 0\n",
    "\n",
    "    # 端を入れる\n",
    "    A = [0] + A + [P+1]\n",
    "\n",
    "    # 割る長さを決める\n",
    "    lengths = [A[i+1]-A[i]-1 for i in range(Q+1)]\n",
    "    \n",
    "    # 長さ1になるまで続ける\n",
    "    while(len(lengths) > 1):\n",
    "        # 隣あう板の中で、最も小さいものを取り出し、足して、元に入れる\n",
    "        sum_values = [lengths[i]+lengths[i+1] for i in range(len(lengths)-1)]\n",
    "        min_index = sum_values.index(min(sum_values))\n",
    "        tmp = lengths.pop(min_index)\n",
    "\n",
    "        # 切る長さには自分を含めない\n",
    "        total += lengths[min_index] + tmp\n",
    "\n",
    "        # 元の長さには自分を含める\n",
    "        lengths[min_index] = tmp + lengths[min_index] + 1\n",
    "        logger.debug(f\"Lengths: {lengths}\")\n",
    "    \n",
    "    return total\n",
    "    "
   ]
  },
  {
   "cell_type": "code",
   "execution_count": 69,
   "metadata": {},
   "outputs": [
    {
     "name": "stderr",
     "output_type": "stream",
     "text": [
      "DEBUG:root:Lengths: [8]\n"
     ]
    },
    {
     "data": {
      "text/plain": [
       "7"
      ]
     },
     "execution_count": 69,
     "metadata": {},
     "output_type": "execute_result"
    }
   ],
   "source": [
    "prisoners(8, 1, [3])"
   ]
  },
  {
   "cell_type": "code",
   "execution_count": 70,
   "metadata": {},
   "outputs": [
    {
     "name": "stderr",
     "output_type": "stream",
     "text": [
      "DEBUG:root:Lengths: [5, 7, 6]\n",
      "DEBUG:root:Lengths: [13, 6]\n",
      "DEBUG:root:Lengths: [20]\n"
     ]
    },
    {
     "data": {
      "text/plain": [
       "35"
      ]
     },
     "execution_count": 70,
     "metadata": {},
     "output_type": "execute_result"
    }
   ],
   "source": [
    "prisoners(20, 3, [3, 6, 14])"
   ]
  },
  {
   "cell_type": "code",
   "execution_count": 35,
   "metadata": {},
   "outputs": [],
   "source": [
    "tmp = lengths.pop(min_index)"
   ]
  },
  {
   "cell_type": "code",
   "execution_count": 36,
   "metadata": {},
   "outputs": [],
   "source": [
    "lengths[min_index] = tmp + lengths[min_index]"
   ]
  },
  {
   "cell_type": "code",
   "execution_count": 37,
   "metadata": {},
   "outputs": [],
   "source": [
    "total += lengths[min_index]"
   ]
  },
  {
   "cell_type": "code",
   "execution_count": 38,
   "metadata": {},
   "outputs": [
    {
     "data": {
      "text/plain": [
       "4"
      ]
     },
     "execution_count": 38,
     "metadata": {},
     "output_type": "execute_result"
    }
   ],
   "source": [
    "total"
   ]
  },
  {
   "cell_type": "code",
   "execution_count": 39,
   "metadata": {},
   "outputs": [
    {
     "data": {
      "text/plain": [
       "[4, 7, 6]"
      ]
     },
     "execution_count": 39,
     "metadata": {},
     "output_type": "execute_result"
    }
   ],
   "source": [
    "lengths"
   ]
  },
  {
   "cell_type": "code",
   "execution_count": null,
   "metadata": {},
   "outputs": [],
   "source": []
  }
 ],
 "metadata": {
  "kernelspec": {
   "display_name": "Python 3",
   "language": "python",
   "name": "python3"
  },
  "language_info": {
   "codemirror_mode": {
    "name": "ipython",
    "version": 3
   },
   "file_extension": ".py",
   "mimetype": "text/x-python",
   "name": "python",
   "nbconvert_exporter": "python",
   "pygments_lexer": "ipython3",
   "version": "3.7.0"
  }
 },
 "nbformat": 4,
 "nbformat_minor": 4
}
