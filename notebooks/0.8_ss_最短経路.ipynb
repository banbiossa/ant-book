{
 "cells": [
  {
   "cell_type": "markdown",
   "metadata": {},
   "source": [
    "# 0.8_ss_最短経路"
   ]
  },
  {
   "cell_type": "code",
   "execution_count": 1,
   "metadata": {},
   "outputs": [],
   "source": [
    "import itertools\n",
    "import numpy as np\n",
    "import pandas as pd\n",
    "import matplotlib.pyplot as plt\n",
    "import seaborn as sns\n",
    "pd.options.display.max_rows = 5"
   ]
  },
  {
   "cell_type": "code",
   "execution_count": 2,
   "metadata": {},
   "outputs": [],
   "source": [
    "# from, to, cost\n",
    "distances = [\n",
    "    (\"A\", \"B\", 2),\n",
    "    (\"A\", \"C\", 5),\n",
    "    (\"B\", \"C\", 4),\n",
    "    (\"B\", \"D\", 6),\n",
    "    (\"C\", \"D\", 2),\n",
    "    (\"D\", \"F\", 1),\n",
    "    (\"E\", \"F\", 3),\n",
    "    (\"B\", \"E\", 10),\n",
    "    (\"E\", \"G\", 5),\n",
    "    (\"F\", \"G\", 9),\n",
    "]"
   ]
  },
  {
   "cell_type": "code",
   "execution_count": 3,
   "metadata": {},
   "outputs": [
    {
     "data": {
      "text/plain": [
       "10"
      ]
     },
     "execution_count": 3,
     "metadata": {},
     "output_type": "execute_result"
    }
   ],
   "source": [
    "E = len(distances)\n",
    "E"
   ]
  },
  {
   "cell_type": "code",
   "execution_count": 4,
   "metadata": {},
   "outputs": [
    {
     "data": {
      "text/html": [
       "<div>\n",
       "<style scoped>\n",
       "    .dataframe tbody tr th:only-of-type {\n",
       "        vertical-align: middle;\n",
       "    }\n",
       "\n",
       "    .dataframe tbody tr th {\n",
       "        vertical-align: top;\n",
       "    }\n",
       "\n",
       "    .dataframe thead th {\n",
       "        text-align: right;\n",
       "    }\n",
       "</style>\n",
       "<table border=\"1\" class=\"dataframe\">\n",
       "  <thead>\n",
       "    <tr style=\"text-align: right;\">\n",
       "      <th></th>\n",
       "      <th>start</th>\n",
       "      <th>end</th>\n",
       "      <th>cost</th>\n",
       "    </tr>\n",
       "  </thead>\n",
       "  <tbody>\n",
       "    <tr>\n",
       "      <td>0</td>\n",
       "      <td>A</td>\n",
       "      <td>B</td>\n",
       "      <td>2</td>\n",
       "    </tr>\n",
       "    <tr>\n",
       "      <td>1</td>\n",
       "      <td>A</td>\n",
       "      <td>C</td>\n",
       "      <td>5</td>\n",
       "    </tr>\n",
       "    <tr>\n",
       "      <td>...</td>\n",
       "      <td>...</td>\n",
       "      <td>...</td>\n",
       "      <td>...</td>\n",
       "    </tr>\n",
       "    <tr>\n",
       "      <td>8</td>\n",
       "      <td>E</td>\n",
       "      <td>G</td>\n",
       "      <td>5</td>\n",
       "    </tr>\n",
       "    <tr>\n",
       "      <td>9</td>\n",
       "      <td>F</td>\n",
       "      <td>G</td>\n",
       "      <td>9</td>\n",
       "    </tr>\n",
       "  </tbody>\n",
       "</table>\n",
       "<p>10 rows × 3 columns</p>\n",
       "</div>"
      ],
      "text/plain": [
       "   start end  cost\n",
       "0      A   B     2\n",
       "1      A   C     5\n",
       "..   ...  ..   ...\n",
       "8      E   G     5\n",
       "9      F   G     9\n",
       "\n",
       "[10 rows x 3 columns]"
      ]
     },
     "execution_count": 4,
     "metadata": {},
     "output_type": "execute_result"
    }
   ],
   "source": [
    "df_dist = pd.DataFrame(distances, columns=['start', 'end', 'cost'])\n",
    "df_dist"
   ]
  },
  {
   "cell_type": "code",
   "execution_count": 5,
   "metadata": {},
   "outputs": [
    {
     "data": {
      "text/plain": [
       "7"
      ]
     },
     "execution_count": 5,
     "metadata": {},
     "output_type": "execute_result"
    }
   ],
   "source": [
    "nodes = list(set(df_dist.loc[:, ['start', 'end']].values.flatten()))\n",
    "nodes.sort()\n",
    "V = len(nodes)\n",
    "V"
   ]
  },
  {
   "cell_type": "code",
   "execution_count": 6,
   "metadata": {},
   "outputs": [],
   "source": [
    "node_map = {item: nodes.index(item) for item in nodes}"
   ]
  },
  {
   "cell_type": "code",
   "execution_count": 7,
   "metadata": {},
   "outputs": [],
   "source": [
    "df_dist['from'] = df_dist.start.map(node_map)\n",
    "df_dist['to'] = df_dist.end.map(node_map)"
   ]
  },
  {
   "cell_type": "code",
   "execution_count": 8,
   "metadata": {},
   "outputs": [
    {
     "data": {
      "text/html": [
       "<div>\n",
       "<style scoped>\n",
       "    .dataframe tbody tr th:only-of-type {\n",
       "        vertical-align: middle;\n",
       "    }\n",
       "\n",
       "    .dataframe tbody tr th {\n",
       "        vertical-align: top;\n",
       "    }\n",
       "\n",
       "    .dataframe thead th {\n",
       "        text-align: right;\n",
       "    }\n",
       "</style>\n",
       "<table border=\"1\" class=\"dataframe\">\n",
       "  <thead>\n",
       "    <tr style=\"text-align: right;\">\n",
       "      <th></th>\n",
       "      <th>start</th>\n",
       "      <th>end</th>\n",
       "      <th>cost</th>\n",
       "      <th>from</th>\n",
       "      <th>to</th>\n",
       "    </tr>\n",
       "  </thead>\n",
       "  <tbody>\n",
       "    <tr>\n",
       "      <td>0</td>\n",
       "      <td>A</td>\n",
       "      <td>B</td>\n",
       "      <td>2</td>\n",
       "      <td>0</td>\n",
       "      <td>1</td>\n",
       "    </tr>\n",
       "    <tr>\n",
       "      <td>1</td>\n",
       "      <td>A</td>\n",
       "      <td>C</td>\n",
       "      <td>5</td>\n",
       "      <td>0</td>\n",
       "      <td>2</td>\n",
       "    </tr>\n",
       "    <tr>\n",
       "      <td>...</td>\n",
       "      <td>...</td>\n",
       "      <td>...</td>\n",
       "      <td>...</td>\n",
       "      <td>...</td>\n",
       "      <td>...</td>\n",
       "    </tr>\n",
       "    <tr>\n",
       "      <td>8</td>\n",
       "      <td>E</td>\n",
       "      <td>G</td>\n",
       "      <td>5</td>\n",
       "      <td>4</td>\n",
       "      <td>6</td>\n",
       "    </tr>\n",
       "    <tr>\n",
       "      <td>9</td>\n",
       "      <td>F</td>\n",
       "      <td>G</td>\n",
       "      <td>9</td>\n",
       "      <td>5</td>\n",
       "      <td>6</td>\n",
       "    </tr>\n",
       "  </tbody>\n",
       "</table>\n",
       "<p>10 rows × 5 columns</p>\n",
       "</div>"
      ],
      "text/plain": [
       "   start end  cost  from  to\n",
       "0      A   B     2     0   1\n",
       "1      A   C     5     0   2\n",
       "..   ...  ..   ...   ...  ..\n",
       "8      E   G     5     4   6\n",
       "9      F   G     9     5   6\n",
       "\n",
       "[10 rows x 5 columns]"
      ]
     },
     "execution_count": 8,
     "metadata": {},
     "output_type": "execute_result"
    }
   ],
   "source": [
    "df_dist"
   ]
  },
  {
   "cell_type": "code",
   "execution_count": 9,
   "metadata": {},
   "outputs": [
    {
     "data": {
      "text/plain": [
       "array([inf, inf, inf, inf, inf, inf, inf])"
      ]
     },
     "execution_count": 9,
     "metadata": {},
     "output_type": "execute_result"
    }
   ],
   "source": [
    "d = np.ones(V) * np.inf\n",
    "d"
   ]
  },
  {
   "cell_type": "code",
   "execution_count": 28,
   "metadata": {},
   "outputs": [],
   "source": [
    "s = 0\n",
    "d[s] = 0\n",
    "while(True):\n",
    "    update = False\n",
    "    for index, row in df_dist.iterrows():\n",
    "        from_ = row['from']\n",
    "        to = row['to']\n",
    "        cost = row['cost']\n",
    "        if (d[from_] != np.inf) & (d[to] > d[from_] + cost):\n",
    "            d[to] = d[from_] + cost\n",
    "            update = True\n",
    "    if not update:\n",
    "        break\n"
   ]
  },
  {
   "cell_type": "code",
   "execution_count": 31,
   "metadata": {},
   "outputs": [
    {
     "data": {
      "text/plain": [
       "array([ 0.,  2.,  5.,  7., 12.,  8., 17.])"
      ]
     },
     "execution_count": 31,
     "metadata": {},
     "output_type": "execute_result"
    }
   ],
   "source": [
    "d"
   ]
  },
  {
   "cell_type": "markdown",
   "metadata": {},
   "source": [
    "## 負の経路"
   ]
  },
  {
   "cell_type": "code",
   "execution_count": 33,
   "metadata": {},
   "outputs": [],
   "source": [
    "d = np.zeros(V)\n",
    "for i in range(V):\n",
    "    for index, row in df_dist.iterrows():\n",
    "        # 中身\n",
    "        from_ = row['from']\n",
    "        to = row['to']\n",
    "        cost = row['cost']\n",
    "        \n",
    "        # 判定\n",
    "        if (d[from_] != np.inf) & (d[to] > d[from_] + cost):\n",
    "            d[to] = d[from_] + cost\n",
    "            if i == V-1:\n",
    "                print(\"There is a minus loop\")\n",
    "        "
   ]
  },
  {
   "cell_type": "code",
   "execution_count": 34,
   "metadata": {},
   "outputs": [
    {
     "data": {
      "text/plain": [
       "array([0., 0., 0., 0., 0., 0., 0.])"
      ]
     },
     "execution_count": 34,
     "metadata": {},
     "output_type": "execute_result"
    }
   ],
   "source": []
  },
  {
   "cell_type": "markdown",
   "metadata": {},
   "source": [
    "# Dijkstra"
   ]
  },
  {
   "cell_type": "code",
   "execution_count": 35,
   "metadata": {},
   "outputs": [
    {
     "data": {
      "text/html": [
       "<div>\n",
       "<style scoped>\n",
       "    .dataframe tbody tr th:only-of-type {\n",
       "        vertical-align: middle;\n",
       "    }\n",
       "\n",
       "    .dataframe tbody tr th {\n",
       "        vertical-align: top;\n",
       "    }\n",
       "\n",
       "    .dataframe thead th {\n",
       "        text-align: right;\n",
       "    }\n",
       "</style>\n",
       "<table border=\"1\" class=\"dataframe\">\n",
       "  <thead>\n",
       "    <tr style=\"text-align: right;\">\n",
       "      <th></th>\n",
       "      <th>start</th>\n",
       "      <th>end</th>\n",
       "      <th>cost</th>\n",
       "      <th>from</th>\n",
       "      <th>to</th>\n",
       "    </tr>\n",
       "  </thead>\n",
       "  <tbody>\n",
       "    <tr>\n",
       "      <td>0</td>\n",
       "      <td>A</td>\n",
       "      <td>B</td>\n",
       "      <td>2</td>\n",
       "      <td>0</td>\n",
       "      <td>1</td>\n",
       "    </tr>\n",
       "    <tr>\n",
       "      <td>1</td>\n",
       "      <td>A</td>\n",
       "      <td>C</td>\n",
       "      <td>5</td>\n",
       "      <td>0</td>\n",
       "      <td>2</td>\n",
       "    </tr>\n",
       "    <tr>\n",
       "      <td>...</td>\n",
       "      <td>...</td>\n",
       "      <td>...</td>\n",
       "      <td>...</td>\n",
       "      <td>...</td>\n",
       "      <td>...</td>\n",
       "    </tr>\n",
       "    <tr>\n",
       "      <td>8</td>\n",
       "      <td>E</td>\n",
       "      <td>G</td>\n",
       "      <td>5</td>\n",
       "      <td>4</td>\n",
       "      <td>6</td>\n",
       "    </tr>\n",
       "    <tr>\n",
       "      <td>9</td>\n",
       "      <td>F</td>\n",
       "      <td>G</td>\n",
       "      <td>9</td>\n",
       "      <td>5</td>\n",
       "      <td>6</td>\n",
       "    </tr>\n",
       "  </tbody>\n",
       "</table>\n",
       "<p>10 rows × 5 columns</p>\n",
       "</div>"
      ],
      "text/plain": [
       "   start end  cost  from  to\n",
       "0      A   B     2     0   1\n",
       "1      A   C     5     0   2\n",
       "..   ...  ..   ...   ...  ..\n",
       "8      E   G     5     4   6\n",
       "9      F   G     9     5   6\n",
       "\n",
       "[10 rows x 5 columns]"
      ]
     },
     "execution_count": 35,
     "metadata": {},
     "output_type": "execute_result"
    }
   ],
   "source": [
    "df_dist"
   ]
  },
  {
   "cell_type": "markdown",
   "metadata": {},
   "source": [
    "## Make cost matrix"
   ]
  },
  {
   "cell_type": "code",
   "execution_count": 72,
   "metadata": {},
   "outputs": [],
   "source": [
    "cost = np.ones((V, V)) * np.inf\n",
    "\n",
    "for index, row in df_dist.iterrows():\n",
    "    cost[row['from']][row['to']] = row['cost']"
   ]
  },
  {
   "cell_type": "code",
   "execution_count": 73,
   "metadata": {},
   "outputs": [
    {
     "data": {
      "text/plain": [
       "array([[inf,  2.,  5., inf, inf, inf, inf],\n",
       "       [inf, inf,  4.,  6., 10., inf, inf],\n",
       "       [inf, inf, inf,  2., inf, inf, inf],\n",
       "       [inf, inf, inf, inf, inf,  1., inf],\n",
       "       [inf, inf, inf, inf, inf,  3.,  5.],\n",
       "       [inf, inf, inf, inf, inf, inf,  9.],\n",
       "       [inf, inf, inf, inf, inf, inf, inf]])"
      ]
     },
     "execution_count": 73,
     "metadata": {},
     "output_type": "execute_result"
    }
   ],
   "source": [
    "cost"
   ]
  },
  {
   "cell_type": "markdown",
   "metadata": {},
   "source": [
    "## 計算"
   ]
  },
  {
   "cell_type": "code",
   "execution_count": 74,
   "metadata": {},
   "outputs": [],
   "source": [
    "s = 0\n",
    "d = np.ones(V) * np.inf\n",
    "d[s] = 0\n",
    "\n",
    "used = np.zeros(V, dtype=bool)\n",
    "\n",
    "while(True):\n",
    "    v = -1\n",
    "    # まだ使われていない頂点のうち、最小のもの\n",
    "    for u in range(V):\n",
    "        if not used[u] and ((v == -1) or (d[u] < d[v])):\n",
    "            v = u\n",
    "    \n",
    "    if v == -1:\n",
    "        break\n",
    "    \n",
    "    used[v] = True\n",
    "    \n",
    "    for u in range(V):\n",
    "        d[u] = min(d[u], d[v] + cost[v][u])\n",
    "        \n",
    "        "
   ]
  },
  {
   "cell_type": "code",
   "execution_count": 77,
   "metadata": {},
   "outputs": [
    {
     "data": {
      "text/plain": [
       "array([ 0.,  2.,  5.,  7., 12.,  8., 17.])"
      ]
     },
     "execution_count": 77,
     "metadata": {},
     "output_type": "execute_result"
    }
   ],
   "source": [
    "d"
   ]
  },
  {
   "cell_type": "code",
   "execution_count": 78,
   "metadata": {},
   "outputs": [],
   "source": [
    "\n",
    "import heapq"
   ]
  },
  {
   "cell_type": "code",
   "execution_count": 97,
   "metadata": {},
   "outputs": [],
   "source": [
    "que = []\n",
    "# the heap items will be first: 最短距離, second: 頂点の番号\n",
    "\n",
    "s = 0\n",
    "d = np.ones(V)*np.inf\n",
    "d[s] = 0\n",
    "\n",
    "heapq.heappush(que, (0, s))\n",
    "\n",
    "while(len(que) > 0):\n",
    "    dist, v = heapq.heappop(que)\n",
    "    if d[v] < dist:\n",
    "        continue\n",
    "        \n",
    "    # for to, cost in G[v]: # the edges are (to, cost) tuples\n",
    "    for index, row in df_dist.loc[df_dist['from'] == v].iterrows():\n",
    "        to = row['to']\n",
    "        cost = row['cost']\n",
    "        \n",
    "        if d[to] > d[v] + cost:\n",
    "            d[to] = d[v] + cost\n",
    "            heapq.heappush(que, (d[to], to))\n",
    "    \n",
    "    \n",
    "    "
   ]
  },
  {
   "cell_type": "code",
   "execution_count": 98,
   "metadata": {},
   "outputs": [
    {
     "data": {
      "text/plain": [
       "array([ 0.,  2.,  5.,  7., 12.,  8., 17.])"
      ]
     },
     "execution_count": 98,
     "metadata": {},
     "output_type": "execute_result"
    }
   ],
   "source": [
    "d "
   ]
  },
  {
   "cell_type": "code",
   "execution_count": 106,
   "metadata": {},
   "outputs": [],
   "source": [
    "# d[u][v] は　辺 (u, v) のコスト（存在しない場合は inf, ただし d[i][i] = 0)\n",
    "d = np.ones((V, V)) * np.inf\n",
    "for i in range(V):\n",
    "    d[i][i] = 0\n",
    "for index, row in df_dist.iterrows():\n",
    "    d[row['from']][row['to']] = row['cost']\n",
    "\n",
    "for (k, i, j) in itertools.product(range(V), range(V), range(V)):\n",
    "    d[i][j] = min(d[i][j], d[i][k] + d[k][j])\n",
    "    "
   ]
  },
  {
   "cell_type": "code",
   "execution_count": 107,
   "metadata": {},
   "outputs": [
    {
     "data": {
      "text/plain": [
       "array([[ 0.,  2.,  5.,  7., 12.,  8., 17.],\n",
       "       [inf,  0.,  4.,  6., 10.,  7., 15.],\n",
       "       [inf, inf,  0.,  2., inf,  3., 12.],\n",
       "       [inf, inf, inf,  0., inf,  1., 10.],\n",
       "       [inf, inf, inf, inf,  0.,  3.,  5.],\n",
       "       [inf, inf, inf, inf, inf,  0.,  9.],\n",
       "       [inf, inf, inf, inf, inf, inf,  0.]])"
      ]
     },
     "execution_count": 107,
     "metadata": {},
     "output_type": "execute_result"
    }
   ],
   "source": [
    "d"
   ]
  },
  {
   "cell_type": "code",
   "execution_count": 121,
   "metadata": {},
   "outputs": [
    {
     "ename": "IndexError",
     "evalue": "index 0 is out of bounds for axis 0 with size 0",
     "output_type": "error",
     "traceback": [
      "\u001b[0;31m---------------------------------------------------------------------------\u001b[0m",
      "\u001b[0;31mIndexError\u001b[0m                                Traceback (most recent call last)",
      "\u001b[0;32m<ipython-input-121-25d2fea7a120>\u001b[0m in \u001b[0;36m<module>\u001b[0;34m\u001b[0m\n\u001b[0;32m----> 1\u001b[0;31m \u001b[0mdf_dist\u001b[0m\u001b[0;34m.\u001b[0m\u001b[0mloc\u001b[0m\u001b[0;34m[\u001b[0m\u001b[0;34m(\u001b[0m\u001b[0mdf_dist\u001b[0m\u001b[0;34m[\u001b[0m\u001b[0;34m'from'\u001b[0m\u001b[0;34m]\u001b[0m \u001b[0;34m==\u001b[0m \u001b[0mu\u001b[0m\u001b[0;34m)\u001b[0m \u001b[0;34m&\u001b[0m \u001b[0;34m(\u001b[0m\u001b[0mdf_dist\u001b[0m\u001b[0;34m[\u001b[0m\u001b[0;34m'to'\u001b[0m\u001b[0;34m]\u001b[0m \u001b[0;34m==\u001b[0m \u001b[0mv\u001b[0m\u001b[0;34m)\u001b[0m\u001b[0;34m,\u001b[0m \u001b[0;34m'cost'\u001b[0m\u001b[0;34m]\u001b[0m\u001b[0;34m.\u001b[0m\u001b[0mvalues\u001b[0m\u001b[0;34m[\u001b[0m\u001b[0;36m0\u001b[0m\u001b[0;34m]\u001b[0m\u001b[0;34m\u001b[0m\u001b[0m\n\u001b[0m",
      "\u001b[0;31mIndexError\u001b[0m: index 0 is out of bounds for axis 0 with size 0"
     ]
    }
   ],
   "source": []
  },
  {
   "cell_type": "code",
   "execution_count": 125,
   "metadata": {},
   "outputs": [
    {
     "data": {
      "text/plain": [
       "array([[inf,  2.,  5., inf, inf, inf, inf],\n",
       "       [inf, inf,  4.,  6., 10., inf, inf],\n",
       "       [inf, inf, inf,  2., inf, inf, inf],\n",
       "       [inf, inf, inf, inf, inf,  1., inf],\n",
       "       [inf, inf, inf, inf, inf,  3.,  5.],\n",
       "       [inf, inf, inf, inf, inf, inf,  9.],\n",
       "       [inf, inf, inf, inf, inf, inf, inf]])"
      ]
     },
     "execution_count": 125,
     "metadata": {},
     "output_type": "execute_result"
    }
   ],
   "source": []
  },
  {
   "cell_type": "code",
   "execution_count": null,
   "metadata": {},
   "outputs": [],
   "source": []
  },
  {
   "cell_type": "markdown",
   "metadata": {},
   "source": [
    "# 経路復元"
   ]
  },
  {
   "cell_type": "code",
   "execution_count": 126,
   "metadata": {},
   "outputs": [],
   "source": [
    "prev = np.ones(V)*-1\n",
    "d = np.ones(V)*np.inf\n",
    "used = np.zeros(V, dtype=bool)\n",
    "\n",
    "# cost\n",
    "cost = np.ones((V, V)) * np.inf\n",
    "for index, row in df_dist.iterrows():\n",
    "    cost[row['from']][row['to']] = row['cost']\n",
    "\n",
    "s = 0\n",
    "d[s] = 0\n",
    "\n",
    "while(True):\n",
    "    v = -1\n",
    "    for u in range(V):\n",
    "        if (not used[u]) and ((v == -1) or (d[u]<d[v])):\n",
    "            v = u\n",
    "    if v == -1:\n",
    "        break\n",
    "    used[v] = True\n",
    "    \n",
    "    for u in range(V):\n",
    "        if d[u] > d[v] + cost[v][u]:\n",
    "            d[u] = d[v] + cost[v][u]\n",
    "            prev[u] = v"
   ]
  },
  {
   "cell_type": "code",
   "execution_count": 138,
   "metadata": {},
   "outputs": [
    {
     "data": {
      "text/plain": [
       "[0, 2, 3, 5, 6]"
      ]
     },
     "execution_count": 138,
     "metadata": {},
     "output_type": "execute_result"
    }
   ],
   "source": [
    "t = 6\n",
    "path = []\n",
    "while t != -1:\n",
    "    path.append(t)\n",
    "    t = int(prev[t])\n",
    "path.reverse()\n",
    "path"
   ]
  },
  {
   "cell_type": "code",
   "execution_count": 137,
   "metadata": {},
   "outputs": [],
   "source": []
  },
  {
   "cell_type": "markdown",
   "metadata": {},
   "source": [
    "# Conspcription"
   ]
  },
  {
   "cell_type": "code",
   "execution_count": 2,
   "metadata": {},
   "outputs": [],
   "source": [
    "import numpy as np\n",
    "import itertools"
   ]
  },
  {
   "cell_type": "code",
   "execution_count": 1,
   "metadata": {},
   "outputs": [],
   "source": [
    "N = 5\n",
    "M = 5\n",
    "R = 8\n",
    "\n",
    "closeness = [\n",
    "    (4,3,6831),\n",
    "    (1,2,4583),\n",
    "    (0,0,6592),\n",
    "    (0,1,3063),\n",
    "    (3,3,4975),\n",
    "    (1,3,2049),\n",
    "    (4,2,2104),\n",
    "    (2,2,781),\n",
    "]"
   ]
  },
  {
   "cell_type": "code",
   "execution_count": null,
   "metadata": {},
   "outputs": [],
   "source": []
  },
  {
   "cell_type": "code",
   "execution_count": null,
   "metadata": {},
   "outputs": [],
   "source": [
    "\n"
   ]
  }
 ],
 "metadata": {
  "kernelspec": {
   "display_name": "Python 3",
   "language": "python",
   "name": "python3"
  },
  "language_info": {
   "codemirror_mode": {
    "name": "ipython",
    "version": 3
   },
   "file_extension": ".py",
   "mimetype": "text/x-python",
   "name": "python",
   "nbconvert_exporter": "python",
   "pygments_lexer": "ipython3",
   "version": "3.7.0"
  }
 },
 "nbformat": 4,
 "nbformat_minor": 4
}
