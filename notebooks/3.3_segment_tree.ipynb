{
 "cells": [
  {
   "cell_type": "markdown",
   "metadata": {},
   "source": [
    "# 3.3 segment trees"
   ]
  },
  {
   "cell_type": "code",
   "execution_count": 1,
   "metadata": {},
   "outputs": [],
   "source": [
    "MAX_N = 1 << 17"
   ]
  },
  {
   "cell_type": "code",
   "execution_count": 2,
   "metadata": {},
   "outputs": [],
   "source": [
    "n_ = 5"
   ]
  },
  {
   "cell_type": "code",
   "execution_count": 3,
   "metadata": {},
   "outputs": [],
   "source": [
    "n = 1\n",
    "while n < n_: n*=2\n"
   ]
  },
  {
   "cell_type": "code",
   "execution_count": 4,
   "metadata": {},
   "outputs": [],
   "source": [
    "import numpy as np"
   ]
  },
  {
   "cell_type": "code",
   "execution_count": 7,
   "metadata": {},
   "outputs": [],
   "source": [
    "data = np.ones(2*n-1)*np.inf"
   ]
  },
  {
   "cell_type": "code",
   "execution_count": 8,
   "metadata": {},
   "outputs": [],
   "source": [
    "def update(k: int, a: int):\n",
    "    \"\"\"k番目の値をa に変更\n",
    "    \"\"\"\n",
    "    # 気の都合上、n-1 が一番下の層のスタートになる\n",
    "    k += n - 1\n",
    "    data[k] = a\n",
    "    # 登りながら更新\n",
    "    while k > 0:\n",
    "        k = int((k-1)/2)\n",
    "        data[k] = min(data[k*2+1], data[k*2+2])"
   ]
  },
  {
   "cell_type": "code",
   "execution_count": 10,
   "metadata": {},
   "outputs": [],
   "source": [
    "def query(a: int, b:int, k: int, l:int, r: int):\n",
    "    \"\"\" [a, b) の最小値を求める\n",
    "    後ろの方の引数は、計算の簡単のための引数\n",
    "    k は接点の番号, l, r, はその接点が [l, r) に対応することを表す\n",
    "    したがって、外からは query(a, b, 0, 0, n) として呼ぶ\n",
    "    \"\"\"\n",
    "    # [a, b) と [l, r) が交差しなければ inf\n",
    "    if (r <= a or b <= l):\n",
    "        return np.inf\n",
    "    \n",
    "    # [a, b) が [l, r) を完全に含んでいれば、この接点の値\n",
    "    if a <= l and r <=b:\n",
    "        return data[k]\n",
    "\n",
    "    # そうでなければ、2つの子の最小値\n",
    "    else:\n",
    "        vl = query(a, b, k*2+1, 1, int((l+r)/2))\n",
    "        vr = query(a, b, k*2+2, int((l+r)/2), r)\n",
    "    "
   ]
  },
  {
   "cell_type": "markdown",
   "metadata": {},
   "source": [
    "# クレーン"
   ]
  },
  {
   "cell_type": "code",
   "execution_count": 11,
   "metadata": {},
   "outputs": [],
   "source": [
    "ST_SIZE = (1<<15)-1"
   ]
  },
  {
   "cell_type": "code",
   "execution_count": 17,
   "metadata": {},
   "outputs": [],
   "source": [
    "MAX_N = 20\n",
    "MAX_C = 20"
   ]
  },
  {
   "cell_type": "code",
   "execution_count": 14,
   "metadata": {},
   "outputs": [],
   "source": [
    "vx = np.zeros(ST_SIZE)\n",
    "vy = np.zeros(ST_SIZE)\n",
    "ang = np.zeros(ST_SIZE)"
   ]
  },
  {
   "cell_type": "code",
   "execution_count": 18,
   "metadata": {},
   "outputs": [],
   "source": [
    "prv = np.zeros(MAX_N)\n",
    "L = np.zeros(MAX_N)\n",
    "S = np.zeros(MAX_C)\n",
    "A = np.zeros(MAX_N)"
   ]
  },
  {
   "cell_type": "code",
   "execution_count": 20,
   "metadata": {},
   "outputs": [],
   "source": [
    "## segment tree\n",
    "# k: 接点, l, r はその接点が [l, r) に対応することを表す\n",
    "def init(k: int, l:int, r:int):\n",
    "    \"\"\"\n",
    "    segment tree\n",
    "    k: 接点, l, r はその接点が [l, r) に対応することを表す\n",
    "    \"\"\"\n",
    "    \n",
    "    ang[k] = vx[k] = 0\n",
    "    # 葉\n",
    "    # 葉であるならば、r と lがその接点の実際の数になっているため\n",
    "    if (r - l) == 1:\n",
    "        vy[k] = L[l]\n",
    "    # 葉でない接点\n",
    "    else:\n",
    "        child_left = k*2 + 1\n",
    "        child_right = k*2 + 2\n",
    "        init(child_left, l, int((l+r)/2))\n",
    "        init(child_right, int((l+r)/2), r)\n",
    "        vy[k] = vy[child_left] + vy[child_right]"
   ]
  },
  {
   "cell_type": "code",
   "execution_count": 23,
   "metadata": {},
   "outputs": [],
   "source": [
    "import math"
   ]
  },
  {
   "cell_type": "code",
   "execution_count": 22,
   "metadata": {},
   "outputs": [],
   "source": [
    "def middle(l, r) -> int:\n",
    "    \"\"\" 中間を返す\n",
    "    \"\"\"\n",
    "    return int((l+r)/2)"
   ]
  },
  {
   "cell_type": "code",
   "execution_count": 24,
   "metadata": {},
   "outputs": [],
   "source": [
    "def change(s: int, a: float, v: int, l: int, r: int):\n",
    "    \"\"\" 場所sの角度がaだけ変更になった\n",
    "    v は接点の番号、l, r はその接点が[l, r) に対応づいていることを表す\n",
    "    \"\"\"\n",
    "    if s <= l:\n",
    "        return\n",
    "    if s >= r:\n",
    "        return\n",
    "    \n",
    "    # l < s < r\n",
    "    # 葉の時は何もしない!\n",
    "    child_left = v*2 + 1\n",
    "    child_right = v*2 + 2\n",
    "    \n",
    "    m = middle(l, r)\n",
    "    change(s, a, child_left, l, m)\n",
    "    change(s, a, child_right, m, r)\n",
    "    \n",
    "    if s <= m:\n",
    "        ang[v] += a\n",
    "    \n",
    "    s = math.sin(ang[v])\n",
    "    c = math.cos(ang[v])\n",
    "    \n",
    "    vx[v] = vx[child_left] + c * vx[child_right] - s * vy[child_right]\n",
    "    vy[v] = vy[child_left] + s * vx[child_right] + c * vy[child_right]\n"
   ]
  },
  {
   "cell_type": "code",
   "execution_count": 25,
   "metadata": {},
   "outputs": [],
   "source": [
    "def solve():\n",
    "    init(0, 0, N)\n",
    "    for i in range(1, N):\n",
    "        prv[i] = math.pi\n",
    "    \n",
    "    # 各クエリを処理\n",
    "    for i in range(C):\n",
    "        s = S[i]\n",
    "        a = A[i] / 360 * 2 * math.pi\n",
    "        \n",
    "        change(s, a-prv[s], 0, 0, N)\n",
    "        \n",
    "        print(f\"{vx[0]:.2f} {vy[0]:.2f}\")"
   ]
  },
  {
   "cell_type": "code",
   "execution_count": 27,
   "metadata": {},
   "outputs": [],
   "source": [
    "N = 8"
   ]
  },
  {
   "cell_type": "code",
   "execution_count": 28,
   "metadata": {},
   "outputs": [
    {
     "ename": "NameError",
     "evalue": "name 'C' is not defined",
     "output_type": "error",
     "traceback": [
      "\u001b[0;31m---------------------------------------------------------------------------\u001b[0m",
      "\u001b[0;31mNameError\u001b[0m                                 Traceback (most recent call last)",
      "\u001b[0;32m<ipython-input-28-6f300b4f5987>\u001b[0m in \u001b[0;36m<module>\u001b[0;34m\u001b[0m\n\u001b[0;32m----> 1\u001b[0;31m \u001b[0msolve\u001b[0m\u001b[0;34m(\u001b[0m\u001b[0;34m)\u001b[0m\u001b[0;34m\u001b[0m\u001b[0;34m\u001b[0m\u001b[0m\n\u001b[0m",
      "\u001b[0;32m<ipython-input-25-3ccd90261b6b>\u001b[0m in \u001b[0;36msolve\u001b[0;34m()\u001b[0m\n\u001b[1;32m      5\u001b[0m \u001b[0;34m\u001b[0m\u001b[0m\n\u001b[1;32m      6\u001b[0m     \u001b[0;31m# 各クエリを処理\u001b[0m\u001b[0;34m\u001b[0m\u001b[0;34m\u001b[0m\u001b[0;34m\u001b[0m\u001b[0m\n\u001b[0;32m----> 7\u001b[0;31m     \u001b[0;32mfor\u001b[0m \u001b[0mi\u001b[0m \u001b[0;32min\u001b[0m \u001b[0mrange\u001b[0m\u001b[0;34m(\u001b[0m\u001b[0mC\u001b[0m\u001b[0;34m)\u001b[0m\u001b[0;34m:\u001b[0m\u001b[0;34m\u001b[0m\u001b[0;34m\u001b[0m\u001b[0m\n\u001b[0m\u001b[1;32m      8\u001b[0m         \u001b[0ms\u001b[0m \u001b[0;34m=\u001b[0m \u001b[0mS\u001b[0m\u001b[0;34m[\u001b[0m\u001b[0mi\u001b[0m\u001b[0;34m]\u001b[0m\u001b[0;34m\u001b[0m\u001b[0;34m\u001b[0m\u001b[0m\n\u001b[1;32m      9\u001b[0m         \u001b[0ma\u001b[0m \u001b[0;34m=\u001b[0m \u001b[0mA\u001b[0m\u001b[0;34m[\u001b[0m\u001b[0mi\u001b[0m\u001b[0;34m]\u001b[0m \u001b[0;34m/\u001b[0m \u001b[0;36m360\u001b[0m \u001b[0;34m*\u001b[0m \u001b[0;36m2\u001b[0m \u001b[0;34m*\u001b[0m \u001b[0mmath\u001b[0m\u001b[0;34m.\u001b[0m\u001b[0mpi\u001b[0m\u001b[0;34m\u001b[0m\u001b[0;34m\u001b[0m\u001b[0m\n",
      "\u001b[0;31mNameError\u001b[0m: name 'C' is not defined"
     ]
    }
   ],
   "source": [
    "solve()"
   ]
  },
  {
   "cell_type": "code",
   "execution_count": null,
   "metadata": {},
   "outputs": [],
   "source": []
  },
  {
   "cell_type": "markdown",
   "metadata": {},
   "source": [
    "# Binary Indexed Tree"
   ]
  },
  {
   "cell_type": "code",
   "execution_count": 29,
   "metadata": {},
   "outputs": [],
   "source": [
    "MAX_N = 100"
   ]
  },
  {
   "cell_type": "code",
   "execution_count": 30,
   "metadata": {},
   "outputs": [],
   "source": [
    "import numpy as np"
   ]
  },
  {
   "cell_type": "code",
   "execution_count": 31,
   "metadata": {},
   "outputs": [],
   "source": [
    "bit = np.zeros(MAX_N)"
   ]
  },
  {
   "cell_type": "code",
   "execution_count": 32,
   "metadata": {},
   "outputs": [],
   "source": []
  },
  {
   "cell_type": "code",
   "execution_count": 35,
   "metadata": {},
   "outputs": [
    {
     "data": {
      "text/plain": [
       "'0b1'"
      ]
     },
     "execution_count": 35,
     "metadata": {},
     "output_type": "execute_result"
    }
   ],
   "source": [
    "bin(3 & 1)"
   ]
  },
  {
   "cell_type": "code",
   "execution_count": 42,
   "metadata": {},
   "outputs": [],
   "source": [
    "def add_two(a, b):\n",
    "    print(f\"{a:08b} + \\n{b:08b} = \\n{a+b:08b}\")"
   ]
  },
  {
   "cell_type": "code",
   "execution_count": 44,
   "metadata": {},
   "outputs": [
    {
     "name": "stdout",
     "output_type": "stream",
     "text": [
      "00000001 + \n",
      "00000011 = \n",
      "00000100\n"
     ]
    }
   ],
   "source": [
    "add_two(1, 3)"
   ]
  },
  {
   "cell_type": "code",
   "execution_count": 47,
   "metadata": {},
   "outputs": [],
   "source": [
    "i = 3"
   ]
  },
  {
   "cell_type": "code",
   "execution_count": 59,
   "metadata": {},
   "outputs": [],
   "source": [
    "def reomve_last_bit(i):\n",
    "    print(f\"{i:08b}: i \\n{-i:08b}: -i \\n{i&-i:08b}: i&-i\")"
   ]
  },
  {
   "cell_type": "code",
   "execution_count": 62,
   "metadata": {},
   "outputs": [
    {
     "name": "stdout",
     "output_type": "stream",
     "text": [
      "00001010: i \n",
      "-0001010: -i \n",
      "00000010: i&-i\n"
     ]
    }
   ],
   "source": [
    "reomve_last_bit(10)"
   ]
  },
  {
   "cell_type": "code",
   "execution_count": null,
   "metadata": {},
   "outputs": [],
   "source": []
  },
  {
   "cell_type": "code",
   "execution_count": 76,
   "metadata": {},
   "outputs": [],
   "source": [
    "def zero_comp(num, digits=4):\n",
    "    assert num < 1 << digits, f\"Can only take up to {1<<digits}, you passed {num}\"\n",
    "    return format(num % (1 << digits), f'0{digits}b')"
   ]
  },
  {
   "cell_type": "code",
   "execution_count": null,
   "metadata": {},
   "outputs": [],
   "source": []
  },
  {
   "cell_type": "code",
   "execution_count": 84,
   "metadata": {},
   "outputs": [],
   "source": [
    "def remove_last_bit(i, num_digits=4):\n",
    "    print(f\"i={i}\")\n",
    "    for exp in [i, -i, i&-i]:\n",
    "        print(zero_comp(exp, num_digits))"
   ]
  },
  {
   "cell_type": "code",
   "execution_count": 86,
   "metadata": {},
   "outputs": [
    {
     "name": "stdout",
     "output_type": "stream",
     "text": [
      "i=20\n",
      "10100\n",
      "01100\n",
      "00100\n"
     ]
    }
   ],
   "source": [
    "remove_last_bit(20, 5)"
   ]
  },
  {
   "cell_type": "code",
   "execution_count": 89,
   "metadata": {},
   "outputs": [],
   "source": []
  },
  {
   "cell_type": "code",
   "execution_count": null,
   "metadata": {},
   "outputs": [],
   "source": []
  },
  {
   "cell_type": "code",
   "execution_count": 118,
   "metadata": {},
   "outputs": [],
   "source": [
    "from typing import List\n",
    "class BubbleSortCounter:\n",
    "    \n",
    "    def __init__(self, n: int, array: List):\n",
    "        \"\"\" Make a bubble sort counter from binary indexed tree\n",
    "        \n",
    "        Args:\n",
    "            n: length of list\n",
    "            a: list to sort\n",
    "        \n",
    "        Attributes:\n",
    "            bit: The numbers to keep track of\n",
    "                The sum of the leaves of [0-a_i]\n",
    "        \"\"\"\n",
    "        self.n = n\n",
    "        self.array = array\n",
    "        # [1, n] の数を利用したい\n",
    "        self.bit = np.zeros(n+1)\n",
    "    \n",
    "    def add(self, index: int, value: float):\n",
    "        \"\"\"Add `value` to bit[`index`] and update the leaves\n",
    "        \n",
    "        Args:\n",
    "            index(int): \n",
    "            value(float):\n",
    "        \"\"\"\n",
    "        while index <= self.n:\n",
    "            self.bit[index] += value\n",
    "            # get the lowest bit of index, and add\n",
    "            # this will traverse up the binary tree, 5(0101)-> 6(0110) -> 8(1000)\n",
    "            index += index & -index\n",
    "    \n",
    "    def reduce_sum(self, index: int):\n",
    "        \"\"\"Reduct the tree into one sum\n",
    "            This will add the sum of bit[0:index]\n",
    "        \n",
    "        Args:\n",
    "            index(int): last index of the range to sum\n",
    "        \"\"\"\n",
    "        sum_adder = 0\n",
    "        while index:\n",
    "            sum_adder += self.bit[index]\n",
    "            # remove the last bit\n",
    "            # this will travese the tree downwards, from 5(0101)->4(0100)->0\n",
    "            index -= index & -index\n",
    "        return sum_adder\n",
    "\n",
    "    def solve(self):\n",
    "        \"\"\"Solve the bubble sort problem\n",
    "        \"\"\"\n",
    "        ans = 0\n",
    "        for j in range(self.n):\n",
    "            ans += j - self.reduce_sum(self.array[j])\n",
    "            self.add(self.array[j], 1)\n",
    "        return ans\n",
    "            \n",
    "        "
   ]
  },
  {
   "cell_type": "code",
   "execution_count": 119,
   "metadata": {},
   "outputs": [
    {
     "data": {
      "text/plain": [
       "3.0"
      ]
     },
     "execution_count": 119,
     "metadata": {},
     "output_type": "execute_result"
    }
   ],
   "source": [
    "BubbleSortCounter(n, a).solve()"
   ]
  },
  {
   "cell_type": "code",
   "execution_count": 110,
   "metadata": {},
   "outputs": [],
   "source": [
    "n = 4\n",
    "a = [3, 1, 4, 2]"
   ]
  },
  {
   "cell_type": "code",
   "execution_count": null,
   "metadata": {},
   "outputs": [],
   "source": [
    "def add(i, x):\n",
    "    while i <= n:\n",
    "        bit[i] += x\n",
    "        i += i & -i"
   ]
  },
  {
   "cell_type": "code",
   "execution_count": null,
   "metadata": {},
   "outputs": [],
   "source": [
    "def sum(i: int):\n",
    "    s = 0\n",
    "    while i:\n",
    "        s += bit[i]\n",
    "        i -= i & -i\n",
    "    return s"
   ]
  },
  {
   "cell_type": "code",
   "execution_count": 98,
   "metadata": {},
   "outputs": [],
   "source": [
    "def solve():\n",
    "    ans = 0\n",
    "    for j in range(n):\n",
    "        ans += j - sum(a[j])\n",
    "        add(a[j], 1)\n",
    "    return ans"
   ]
  },
  {
   "cell_type": "code",
   "execution_count": 99,
   "metadata": {},
   "outputs": [
    {
     "data": {
      "text/plain": [
       "-17.0"
      ]
     },
     "execution_count": 99,
     "metadata": {},
     "output_type": "execute_result"
    }
   ],
   "source": [
    "solve()"
   ]
  },
  {
   "cell_type": "code",
   "execution_count": null,
   "metadata": {},
   "outputs": [],
   "source": []
  }
 ],
 "metadata": {
  "kernelspec": {
   "display_name": "Python 3",
   "language": "python",
   "name": "python3"
  },
  "language_info": {
   "codemirror_mode": {
    "name": "ipython",
    "version": 3
   },
   "file_extension": ".py",
   "mimetype": "text/x-python",
   "name": "python",
   "nbconvert_exporter": "python",
   "pygments_lexer": "ipython3",
   "version": "3.7.6"
  }
 },
 "nbformat": 4,
 "nbformat_minor": 4
}
