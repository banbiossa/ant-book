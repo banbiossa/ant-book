{
 "cells": [
  {
   "cell_type": "markdown",
   "metadata": {},
   "source": [
    "# 0.9_ss_ぐらふ"
   ]
  },
  {
   "cell_type": "code",
   "execution_count": 1,
   "metadata": {},
   "outputs": [],
   "source": [
    "%load_ext autoreload\n",
    "%autoreload 2"
   ]
  },
  {
   "cell_type": "code",
   "execution_count": 2,
   "metadata": {},
   "outputs": [],
   "source": [
    "import itertools\n",
    "import numpy as np\n",
    "import pandas as pd\n",
    "import matplotlib.pyplot as plt\n",
    "import seaborn as sns\n",
    "pd.options.display.max_rows = 5"
   ]
  },
  {
   "cell_type": "code",
   "execution_count": 3,
   "metadata": {},
   "outputs": [],
   "source": [
    "# from, to, cost\n",
    "distances = [\n",
    "    (\"a\", \"b\", 10),\n",
    "    (\"a\", \"f\", 2),\n",
    "    (\"b\", \"c\", 5),\n",
    "    (\"c\", \"f\", 7),\n",
    "    (\"c\", \"d\", 8),\n",
    "    (\"c\", \"e\", 1),\n",
    "    (\"d\", \"e\", 5),\n",
    "    (\"e\", \"f\", 3),\n",
    "    (\"f\", \"g\", 1),\n",
    "]\n",
    "# 双方向\n",
    "double_distances = distances + [(end, start, cost) for start, end, cost in distances]"
   ]
  },
  {
   "cell_type": "code",
   "execution_count": 4,
   "metadata": {},
   "outputs": [
    {
     "data": {
      "text/plain": [
       "9"
      ]
     },
     "execution_count": 4,
     "metadata": {},
     "output_type": "execute_result"
    }
   ],
   "source": [
    "E = len(distances)\n",
    "E"
   ]
  },
  {
   "cell_type": "code",
   "execution_count": 5,
   "metadata": {},
   "outputs": [
    {
     "data": {
      "text/html": [
       "<div>\n",
       "<style scoped>\n",
       "    .dataframe tbody tr th:only-of-type {\n",
       "        vertical-align: middle;\n",
       "    }\n",
       "\n",
       "    .dataframe tbody tr th {\n",
       "        vertical-align: top;\n",
       "    }\n",
       "\n",
       "    .dataframe thead th {\n",
       "        text-align: right;\n",
       "    }\n",
       "</style>\n",
       "<table border=\"1\" class=\"dataframe\">\n",
       "  <thead>\n",
       "    <tr style=\"text-align: right;\">\n",
       "      <th></th>\n",
       "      <th>start</th>\n",
       "      <th>end</th>\n",
       "      <th>cost</th>\n",
       "    </tr>\n",
       "  </thead>\n",
       "  <tbody>\n",
       "    <tr>\n",
       "      <td>0</td>\n",
       "      <td>a</td>\n",
       "      <td>b</td>\n",
       "      <td>10</td>\n",
       "    </tr>\n",
       "    <tr>\n",
       "      <td>1</td>\n",
       "      <td>a</td>\n",
       "      <td>f</td>\n",
       "      <td>2</td>\n",
       "    </tr>\n",
       "    <tr>\n",
       "      <td>...</td>\n",
       "      <td>...</td>\n",
       "      <td>...</td>\n",
       "      <td>...</td>\n",
       "    </tr>\n",
       "    <tr>\n",
       "      <td>16</td>\n",
       "      <td>f</td>\n",
       "      <td>e</td>\n",
       "      <td>3</td>\n",
       "    </tr>\n",
       "    <tr>\n",
       "      <td>17</td>\n",
       "      <td>g</td>\n",
       "      <td>f</td>\n",
       "      <td>1</td>\n",
       "    </tr>\n",
       "  </tbody>\n",
       "</table>\n",
       "<p>18 rows × 3 columns</p>\n",
       "</div>"
      ],
      "text/plain": [
       "   start end  cost\n",
       "0      a   b    10\n",
       "1      a   f     2\n",
       "..   ...  ..   ...\n",
       "16     f   e     3\n",
       "17     g   f     1\n",
       "\n",
       "[18 rows x 3 columns]"
      ]
     },
     "execution_count": 5,
     "metadata": {},
     "output_type": "execute_result"
    }
   ],
   "source": [
    "df_dist = pd.DataFrame(double_distances, columns=['start', 'end', 'cost'])\n",
    "df_dist"
   ]
  },
  {
   "cell_type": "code",
   "execution_count": 6,
   "metadata": {},
   "outputs": [
    {
     "data": {
      "text/plain": [
       "7"
      ]
     },
     "execution_count": 6,
     "metadata": {},
     "output_type": "execute_result"
    }
   ],
   "source": [
    "nodes = list(set(df_dist.loc[:, ['start', 'end']].values.flatten()))\n",
    "nodes.sort()\n",
    "V = len(nodes)\n",
    "V"
   ]
  },
  {
   "cell_type": "code",
   "execution_count": 7,
   "metadata": {},
   "outputs": [],
   "source": [
    "node_map = {item: nodes.index(item) for item in nodes}"
   ]
  },
  {
   "cell_type": "code",
   "execution_count": 8,
   "metadata": {},
   "outputs": [],
   "source": [
    "df_dist['from'] = df_dist.start.map(node_map)\n",
    "df_dist['to'] = df_dist.end.map(node_map)"
   ]
  },
  {
   "cell_type": "code",
   "execution_count": 9,
   "metadata": {},
   "outputs": [
    {
     "data": {
      "text/html": [
       "<div>\n",
       "<style scoped>\n",
       "    .dataframe tbody tr th:only-of-type {\n",
       "        vertical-align: middle;\n",
       "    }\n",
       "\n",
       "    .dataframe tbody tr th {\n",
       "        vertical-align: top;\n",
       "    }\n",
       "\n",
       "    .dataframe thead th {\n",
       "        text-align: right;\n",
       "    }\n",
       "</style>\n",
       "<table border=\"1\" class=\"dataframe\">\n",
       "  <thead>\n",
       "    <tr style=\"text-align: right;\">\n",
       "      <th></th>\n",
       "      <th>start</th>\n",
       "      <th>end</th>\n",
       "      <th>cost</th>\n",
       "      <th>from</th>\n",
       "      <th>to</th>\n",
       "    </tr>\n",
       "  </thead>\n",
       "  <tbody>\n",
       "    <tr>\n",
       "      <td>0</td>\n",
       "      <td>a</td>\n",
       "      <td>b</td>\n",
       "      <td>10</td>\n",
       "      <td>0</td>\n",
       "      <td>1</td>\n",
       "    </tr>\n",
       "    <tr>\n",
       "      <td>1</td>\n",
       "      <td>a</td>\n",
       "      <td>f</td>\n",
       "      <td>2</td>\n",
       "      <td>0</td>\n",
       "      <td>5</td>\n",
       "    </tr>\n",
       "    <tr>\n",
       "      <td>...</td>\n",
       "      <td>...</td>\n",
       "      <td>...</td>\n",
       "      <td>...</td>\n",
       "      <td>...</td>\n",
       "      <td>...</td>\n",
       "    </tr>\n",
       "    <tr>\n",
       "      <td>16</td>\n",
       "      <td>f</td>\n",
       "      <td>e</td>\n",
       "      <td>3</td>\n",
       "      <td>5</td>\n",
       "      <td>4</td>\n",
       "    </tr>\n",
       "    <tr>\n",
       "      <td>17</td>\n",
       "      <td>g</td>\n",
       "      <td>f</td>\n",
       "      <td>1</td>\n",
       "      <td>6</td>\n",
       "      <td>5</td>\n",
       "    </tr>\n",
       "  </tbody>\n",
       "</table>\n",
       "<p>18 rows × 5 columns</p>\n",
       "</div>"
      ],
      "text/plain": [
       "   start end  cost  from  to\n",
       "0      a   b    10     0   1\n",
       "1      a   f     2     0   5\n",
       "..   ...  ..   ...   ...  ..\n",
       "16     f   e     3     5   4\n",
       "17     g   f     1     6   5\n",
       "\n",
       "[18 rows x 5 columns]"
      ]
     },
     "execution_count": 9,
     "metadata": {},
     "output_type": "execute_result"
    }
   ],
   "source": [
    "df_dist"
   ]
  },
  {
   "cell_type": "markdown",
   "metadata": {},
   "source": [
    "## Make cost matrix"
   ]
  },
  {
   "cell_type": "code",
   "execution_count": 10,
   "metadata": {},
   "outputs": [],
   "source": [
    "cost = np.ones((V, V)) * np.inf\n",
    "\n",
    "for index, row in df_dist.iterrows():\n",
    "    cost[row['from']][row['to']] = row['cost']"
   ]
  },
  {
   "cell_type": "code",
   "execution_count": 11,
   "metadata": {},
   "outputs": [
    {
     "data": {
      "text/plain": [
       "array([[inf, 10., inf, inf, inf,  2., inf],\n",
       "       [10., inf,  5., inf, inf, inf, inf],\n",
       "       [inf,  5., inf,  8.,  1.,  7., inf],\n",
       "       [inf, inf,  8., inf,  5., inf, inf],\n",
       "       [inf, inf,  1.,  5., inf,  3., inf],\n",
       "       [ 2., inf,  7., inf,  3., inf,  1.],\n",
       "       [inf, inf, inf, inf, inf,  1., inf]])"
      ]
     },
     "execution_count": 11,
     "metadata": {},
     "output_type": "execute_result"
    }
   ],
   "source": [
    "cost"
   ]
  },
  {
   "cell_type": "code",
   "execution_count": 12,
   "metadata": {},
   "outputs": [
    {
     "name": "stdout",
     "output_type": "stream",
     "text": [
      "17.0\n"
     ]
    }
   ],
   "source": [
    "# 集合Xから辺への最小コスト\n",
    "mincost = np.ones(V) * np.inf\n",
    "mincost[0] = 0\n",
    "\n",
    "# 使われているか\n",
    "used = np.zeros(V, dtype=bool)\n",
    "\n",
    "# 結果\n",
    "res = 0\n",
    "\n",
    "while(True):\n",
    "    v = -1\n",
    "    \n",
    "    # Xに属さない頂点のうちから、辺のコストが最小になる頂点を探す\n",
    "    for u in range(V):\n",
    "        # if !used[u] and ((v == -1) or (mincost[u] < mincost[v])):\n",
    "        #    v = u\n",
    "        # 使われているならスキップ\n",
    "        if used[u]:\n",
    "            continue\n",
    "        \n",
    "        # 初期値なら u を入れる\n",
    "        if v == -1:\n",
    "            v = u\n",
    "        \n",
    "        # コストが最小なら、u を入れる\n",
    "        if mincost[u] < mincost[v]:\n",
    "            v = u\n",
    "    \n",
    "    # 更新されなかった場合\n",
    "    if v == -1:\n",
    "        break\n",
    "    \n",
    "    # v を集合Xに含む\n",
    "    used[v] = True\n",
    "    res += mincost[v]\n",
    "    \n",
    "    # vが含まれたので更新\n",
    "    for u in range(V):\n",
    "        mincost[u] = min(mincost[u], cost[v][u])\n",
    "\n",
    "print(res)"
   ]
  },
  {
   "cell_type": "code",
   "execution_count": 13,
   "metadata": {},
   "outputs": [
    {
     "data": {
      "text/plain": [
       "array([0., 5., 1., 5., 1., 1., 1.])"
      ]
     },
     "execution_count": 13,
     "metadata": {},
     "output_type": "execute_result"
    }
   ],
   "source": [
    "mincost"
   ]
  },
  {
   "cell_type": "code",
   "execution_count": 14,
   "metadata": {},
   "outputs": [
    {
     "data": {
      "text/plain": [
       "[('a', 'b', 10),\n",
       " ('a', 'f', 2),\n",
       " ('b', 'c', 5),\n",
       " ('c', 'f', 7),\n",
       " ('c', 'd', 8),\n",
       " ('c', 'e', 1),\n",
       " ('d', 'e', 5),\n",
       " ('e', 'f', 3),\n",
       " ('f', 'g', 1)]"
      ]
     },
     "execution_count": 14,
     "metadata": {},
     "output_type": "execute_result"
    }
   ],
   "source": [
    "distances"
   ]
  },
  {
   "cell_type": "markdown",
   "metadata": {},
   "source": [
    "# Use union find tree"
   ]
  },
  {
   "cell_type": "code",
   "execution_count": 15,
   "metadata": {},
   "outputs": [],
   "source": [
    "double_distances.sort(key=lambda x: x[2])"
   ]
  },
  {
   "cell_type": "code",
   "execution_count": 16,
   "metadata": {},
   "outputs": [
    {
     "data": {
      "text/plain": [
       "[('c', 'e', 1),\n",
       " ('f', 'g', 1),\n",
       " ('e', 'c', 1),\n",
       " ('g', 'f', 1),\n",
       " ('a', 'f', 2),\n",
       " ('f', 'a', 2),\n",
       " ('e', 'f', 3),\n",
       " ('f', 'e', 3),\n",
       " ('b', 'c', 5),\n",
       " ('d', 'e', 5),\n",
       " ('c', 'b', 5),\n",
       " ('e', 'd', 5),\n",
       " ('c', 'f', 7),\n",
       " ('f', 'c', 7),\n",
       " ('c', 'd', 8),\n",
       " ('d', 'c', 8),\n",
       " ('a', 'b', 10),\n",
       " ('b', 'a', 10)]"
      ]
     },
     "execution_count": 16,
     "metadata": {},
     "output_type": "execute_result"
    }
   ],
   "source": [
    "double_distances"
   ]
  },
  {
   "cell_type": "code",
   "execution_count": 17,
   "metadata": {},
   "outputs": [],
   "source": [
    "from src.union_find_tree import UnionFindTree"
   ]
  },
  {
   "cell_type": "code",
   "execution_count": 51,
   "metadata": {},
   "outputs": [],
   "source": [
    "tree = UnionFindTree(V)\n",
    "res = 0\n",
    "distances.sort(key=lambda x: x[2])\n",
    "\n",
    "for u_, v_, cost in distances:\n",
    "    u = node_map[u_]\n",
    "    v = node_map[v_]\n",
    "    if not tree.same(u, v):\n",
    "        tree.unite(u, v)\n",
    "        res += cost"
   ]
  },
  {
   "cell_type": "code",
   "execution_count": 54,
   "metadata": {},
   "outputs": [
    {
     "data": {
      "text/plain": [
       "array([2, 2, 2, 2, 2, 2, 5])"
      ]
     },
     "execution_count": 54,
     "metadata": {},
     "output_type": "execute_result"
    }
   ],
   "source": [
    "tree.par"
   ]
  },
  {
   "cell_type": "markdown",
   "metadata": {},
   "source": [
    "# Second best"
   ]
  },
  {
   "cell_type": "code",
   "execution_count": 55,
   "metadata": {},
   "outputs": [],
   "source": [
    "distances = [\n",
    "    (0, 1, 100),\n",
    "    (1, 2, 250),\n",
    "    (1, 3, 200),\n",
    "    (2, 3, 100),\n",
    "]"
   ]
  },
  {
   "cell_type": "code",
   "execution_count": 60,
   "metadata": {},
   "outputs": [],
   "source": [
    "G = [\n",
    "    [(1, 100), ],\n",
    "    [(0, 100), (2, 250), (3, 200),],\n",
    "    [(1, 250), (3, 100), ],\n",
    "    [(1, 200), (2, 100), ],\n",
    "]"
   ]
  },
  {
   "cell_type": "code",
   "execution_count": 59,
   "metadata": {},
   "outputs": [],
   "source": [
    "import heapq"
   ]
  },
  {
   "cell_type": "code",
   "execution_count": 95,
   "metadata": {},
   "outputs": [
    {
     "name": "stdout",
     "output_type": "stream",
     "text": [
      "v 0\n",
      "v 0 to 1\n",
      "bef [] 0 -> 1 100 [ 0. inf inf inf] [inf inf inf inf]\n",
      "min [(100.0, 1)] 0 -> 1 inf [  0. 100.  inf  inf] [inf inf inf inf]\n",
      "v 1\n",
      "v 1 to 0\n",
      "bef [] 1 -> 0 200.0 [  0. 100.  inf  inf] [inf inf inf inf]\n",
      "2min [(200.0, 0)] 1 -> 0 200.0 [  0. 100.  inf  inf] [200.  inf  inf  inf]\n",
      "v 1 to 2\n",
      "bef [(200.0, 0)] 1 -> 2 350.0 [  0. 100.  inf  inf] [200.  inf  inf  inf]\n",
      "min [(200.0, 0), (350.0, 2)] 1 -> 2 inf [  0. 100. 350.  inf] [200.  inf  inf  inf]\n",
      "v 1 to 3\n",
      "bef [(200.0, 0), (350.0, 2)] 1 -> 3 300.0 [  0. 100. 350.  inf] [200.  inf  inf  inf]\n",
      "min [(200.0, 0), (350.0, 2), (300.0, 3)] 1 -> 3 inf [  0. 100. 350. 300.] [200.  inf  inf  inf]\n",
      "v 0\n",
      "v 0 to 1\n",
      "bef [(300.0, 3), (350.0, 2)] 0 -> 1 300.0 [  0. 100. 350. 300.] [200.  inf  inf  inf]\n",
      "2min [(300.0, 1), (350.0, 2), (300.0, 3)] 0 -> 1 300.0 [  0. 100. 350. 300.] [200. 300.  inf  inf]\n",
      "v 1\n",
      "v 1 to 0\n",
      "v 1 to 2\n",
      "bef [(300.0, 3), (350.0, 2)] 1 -> 2 550.0 [  0. 100. 350. 300.] [200. 300.  inf  inf]\n",
      "2min [(300.0, 3), (350.0, 2), (550.0, 2)] 1 -> 2 550.0 [  0. 100. 350. 300.] [200. 300. 550.  inf]\n",
      "v 1 to 3\n",
      "bef [(300.0, 3), (350.0, 2), (550.0, 2)] 1 -> 3 500.0 [  0. 100. 350. 300.] [200. 300. 550.  inf]\n",
      "2min [(300.0, 3), (350.0, 2), (550.0, 2), (500.0, 3)] 1 -> 3 500.0 [  0. 100. 350. 300.] [200. 300. 550. 500.]\n",
      "v 3\n",
      "v 3 to 1\n",
      "v 3 to 2\n",
      "bef [(350.0, 2), (500.0, 3), (550.0, 2)] 3 -> 2 400.0 [  0. 100. 350. 300.] [200. 300. 550. 500.]\n",
      "2min [(350.0, 2), (400.0, 2), (550.0, 2), (500.0, 3)] 3 -> 2 400.0 [  0. 100. 350. 300.] [200. 300. 400. 500.]\n",
      "v 2\n",
      "v 2 to 1\n",
      "v 2 to 3\n",
      "bef [(400.0, 2), (500.0, 3), (550.0, 2)] 2 -> 3 450.0 [  0. 100. 350. 300.] [200. 300. 400. 500.]\n",
      "2min [(400.0, 2), (450.0, 3), (550.0, 2), (500.0, 3)] 2 -> 3 450.0 [  0. 100. 350. 300.] [200. 300. 400. 450.]\n",
      "v 2\n",
      "v 2 to 1\n",
      "v 2 to 3\n",
      "v 3\n",
      "v 3 to 1\n",
      "v 3 to 2\n",
      "v 3\n",
      "skip 450.0 500.0\n",
      "v 2\n",
      "skip 400.0 550.0\n"
     ]
    }
   ],
   "source": [
    "N = 4\n",
    "R = 4\n",
    "dist = np.ones(N) * np.inf\n",
    "dist[0] = 0\n",
    "dist2 = np.ones(N) * np.inf\n",
    "\n",
    "# que is dist, vector\n",
    "que = []\n",
    "heapq.heappush(que, (0, 0))\n",
    "\n",
    "while(que):\n",
    "    d, v = heapq.heappop(que)\n",
    "    print('v', v)\n",
    "    \n",
    "    # 3番手以降の解\n",
    "    if dist2[v] < d:\n",
    "        print('skip', dist2[v], d)\n",
    "        continue\n",
    "        \n",
    "    for to, cost in G[v]:\n",
    "        print('v', v, 'to', to)\n",
    "        d2 = d + cost\n",
    "        # 最小値の更新\n",
    "        if dist[to] > d2:\n",
    "            print('bef', que, v, '->', to, d2, dist, dist2)\n",
    "            dist[to], d2 = d2, dist[to]\n",
    "            heapq.heappush(que, (dist[to], to))\n",
    "            print('min', que, v, '->', to, d2, dist, dist2)\n",
    "        \n",
    "        # 2番目のあたいの更新\n",
    "        if dist2[to] > d2 > dist[to]:\n",
    "            print('bef', que, v,'->', to, d2, dist, dist2)\n",
    "            dist2[to] = d2\n",
    "            heapq.heappush(que, (dist2[to], to))\n",
    "            print('2min', que, v,'->', to, d2, dist, dist2)"
   ]
  },
  {
   "cell_type": "code",
   "execution_count": 93,
   "metadata": {},
   "outputs": [
    {
     "data": {
      "text/plain": [
       "array([200., 300., 400., 450.])"
      ]
     },
     "execution_count": 93,
     "metadata": {},
     "output_type": "execute_result"
    }
   ],
   "source": [
    "dist2"
   ]
  },
  {
   "cell_type": "code",
   "execution_count": 94,
   "metadata": {},
   "outputs": [
    {
     "data": {
      "text/plain": [
       "array([  0., 100., 350., 300.])"
      ]
     },
     "execution_count": 94,
     "metadata": {},
     "output_type": "execute_result"
    }
   ],
   "source": [
    "dist"
   ]
  },
  {
   "cell_type": "code",
   "execution_count": 81,
   "metadata": {},
   "outputs": [
    {
     "data": {
      "text/plain": [
       "False"
      ]
     },
     "execution_count": 81,
     "metadata": {},
     "output_type": "execute_result"
    }
   ],
   "source": [
    "3 > 4 > 5"
   ]
  },
  {
   "cell_type": "code",
   "execution_count": 82,
   "metadata": {},
   "outputs": [
    {
     "data": {
      "text/plain": [
       "True"
      ]
     },
     "execution_count": 82,
     "metadata": {},
     "output_type": "execute_result"
    }
   ],
   "source": [
    "5 > 4 > 3"
   ]
  },
  {
   "cell_type": "code",
   "execution_count": 83,
   "metadata": {},
   "outputs": [
    {
     "data": {
      "text/plain": [
       "False"
      ]
     },
     "execution_count": 83,
     "metadata": {},
     "output_type": "execute_result"
    }
   ],
   "source": [
    "5 < 3 > 2"
   ]
  },
  {
   "cell_type": "code",
   "execution_count": null,
   "metadata": {},
   "outputs": [],
   "source": []
  },
  {
   "cell_type": "code",
   "execution_count": null,
   "metadata": {},
   "outputs": [],
   "source": []
  },
  {
   "cell_type": "code",
   "execution_count": null,
   "metadata": {},
   "outputs": [],
   "source": []
  },
  {
   "cell_type": "code",
   "execution_count": null,
   "metadata": {},
   "outputs": [],
   "source": []
  }
 ],
 "metadata": {
  "kernelspec": {
   "display_name": "Python 3",
   "language": "python",
   "name": "python3"
  },
  "language_info": {
   "codemirror_mode": {
    "name": "ipython",
    "version": 3
   },
   "file_extension": ".py",
   "mimetype": "text/x-python",
   "name": "python",
   "nbconvert_exporter": "python",
   "pygments_lexer": "ipython3",
   "version": "3.7.0"
  }
 },
 "nbformat": 4,
 "nbformat_minor": 4
}
